{
  "nbformat": 4,
  "nbformat_minor": 0,
  "metadata": {
    "colab": {
      "provenance": [],
      "include_colab_link": true
    },
    "kernelspec": {
      "name": "python3",
      "display_name": "Python 3"
    },
    "language_info": {
      "name": "python"
    }
  },
  "cells": [
    {
      "cell_type": "markdown",
      "metadata": {
        "id": "view-in-github",
        "colab_type": "text"
      },
      "source": [
        "<a href=\"https://colab.research.google.com/github/jananilakshminarayanan/DA-DS-projects/blob/main/DiceGame.ipynb\" target=\"_parent\"><img src=\"https://colab.research.google.com/assets/colab-badge.svg\" alt=\"Open In Colab\"/></a>"
      ]
    },
    {
      "cell_type": "markdown",
      "source": [
        "## Using the custoom built library RollingDice a simple dice game is built in this code file"
      ],
      "metadata": {
        "id": "RR4ftR1d48pZ"
      }
    },
    {
      "cell_type": "code",
      "source": [
        "# import own library RollingDice\n",
        "import RollingDice as dg"
      ],
      "metadata": {
        "id": "qf1V_YL9p-v3"
      },
      "execution_count": null,
      "outputs": []
    },
    {
      "cell_type": "code",
      "execution_count": null,
      "metadata": {
        "colab": {
          "base_uri": "https://localhost:8080/",
          "height": 208
        },
        "id": "2_Lvxp77hOoj",
        "outputId": "1e63ee0e-4a57-4185-9893-4eec8ff5a6a7"
      },
      "outputs": [
        {
          "output_type": "display_data",
          "data": {
            "text/html": [
              "<img src=\"https://game-icons.net/icons/ffffff/000000/1x1/delapouite/dice-six-faces-two.png\" width=\"100\" height=\"100\"/>"
            ],
            "text/plain": [
              "<IPython.core.display.Image object>"
            ]
          },
          "metadata": {}
        },
        {
          "output_type": "stream",
          "name": "stdout",
          "text": [
            "You rolled a  2\n",
            "Better luck next time!\n",
            "It`s a tie!!\n",
            "han score: 0\n",
            "fan score: 0\n"
          ]
        }
      ],
      "source": [
        "# Dice game\n",
        "# Game rules: has two players and each gets 3 turns.\n",
        "# Game only begins when the player rolls a 1\n",
        "# if the player rolls a 6 they get an extra turn\n",
        "# whoever scores highest wins\n",
        "\n",
        "print(\"Welcome to Dice Game\")\n",
        "player_1 = input(\"Enter first player name: \")\n",
        "player_2 = input(\"Enter second player name: \")\n",
        "\n",
        "# initiate all variables\n",
        "turns, score_1 , score_2 = 0,0,0\n",
        "\n",
        "while turns < 3:\n",
        "  # Anounce the number of turns left\n",
        "  print(\"Turn \",(turns+1))\n",
        "\n",
        "  # both players get to roll the dice\n",
        "  print(\"{} playing\".format(player_1))\n",
        "  p1 = input(\"Press enter to roll the Dice\")\n",
        "\n",
        "  # check whether player1 has pressed enter\n",
        "  if p1 == '':\n",
        "    #check whether player1 has rolled a 1 to begin game\n",
        "    if score_1 == 0:\n",
        "      score_1 += dg.first_roll()\n",
        "    else:\n",
        "      # begin game\n",
        "      score_1 += dg.game_start()\n",
        "      print(\"{} score: \".format(player_1,score_1))\n",
        "  else:\n",
        "    # pressing other buttons will make you loose a turn\n",
        "    print(\"Invalid entry. You loose a turn\")\n",
        "\n",
        "  print(\"{} playing\".format(player_2))\n",
        "  p2 = input(\"Press enter to roll the Dice\")\n",
        "\n",
        "  # check whether player2 has pressed enter\n",
        "  if p2 == '':\n",
        "    #check whether player2 has rolled a 1 to begin game\n",
        "    if score_2 == 0:\n",
        "      score_2 += dg.first_roll()\n",
        "    else:\n",
        "      # begin game\n",
        "      score_2 += dg.game_start()\n",
        "      print(\"{} score: \".format(player_2,score_2))\n",
        "  else:\n",
        "    # pressing other buttons will make you loose a turn\n",
        "    print(\"Invalid entry. You loose a turn\")\n",
        "\n",
        "\n",
        "  # increase the iteration\n",
        "  turns += 1\n",
        "\n",
        "# check who has higher score and decide the winner accordingly\n",
        "if score_1 > score_2:\n",
        "  print(\"{} wins !! Congratulations... score: {}\".format(player_1,score_1))\n",
        "  print(\"{} score: {}\".format(player_2, score_2))\n",
        "elif score_1 == score_2:\n",
        "  print(\"It`s a tie!!\")\n",
        "  print(\"{} score: {}\".format(player_1, score_1))\n",
        "  print(\"{} score: {}\".format(player_2, score_2))\n",
        "else:\n",
        "  print(\"{} wins !! Congratulations... score: {} \".format(player_2, score_2))\n",
        "  print(\"{} score: {}\".format(player_1, score_1))\n",
        "\n",
        "\n"
      ]
    },
    {
      "cell_type": "code",
      "source": [],
      "metadata": {
        "id": "DG8Vds4esERx"
      },
      "execution_count": null,
      "outputs": []
    }
  ]
}