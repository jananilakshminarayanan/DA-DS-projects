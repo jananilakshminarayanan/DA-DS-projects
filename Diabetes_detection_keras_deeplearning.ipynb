{
  "cells": [
    {
      "cell_type": "markdown",
      "metadata": {
        "id": "view-in-github",
        "colab_type": "text"
      },
      "source": [
        "<a href=\"https://colab.research.google.com/github/jananilakshminarayanan/DA-DS-projects/blob/main/Diabetes_detection_keras_deeplearning.ipynb\" target=\"_parent\"><img src=\"https://colab.research.google.com/assets/colab-badge.svg\" alt=\"Open In Colab\"/></a>"
      ]
    },
    {
      "cell_type": "markdown",
      "id": "8e587329",
      "metadata": {
        "id": "8e587329"
      },
      "source": [
        "**Project Aim:** Diabetes Detection using Keras Deep Learning Model\n",
        "\n",
        "**Solution Approach:** Load diabetes dataset and perform data alaysis and feature selection. Split into train and test datasets. Build a sequential kears model with varying model parameters like no of hidden layers, activation type, no of nodes etc., and test output accuracy using accuracy and loss epoch graphs"
      ]
    },
    {
      "cell_type": "code",
      "execution_count": null,
      "id": "b2675991",
      "metadata": {
        "id": "b2675991"
      },
      "outputs": [],
      "source": [
        "# load libraries\n",
        "import numpy as np\n",
        "import pandas as pd\n",
        "import matplotlib.pyplot as plt\n",
        "%matplotlib inline\n",
        "\n",
        "# import required libraries to build model\n",
        "from keras.models import Sequential\n",
        "from keras.layers import Dense , Activation, Dropout\n",
        "from keras.optimizers import Adam ,RMSprop\n",
        "from keras import  backend as K\n",
        "from keras.utils import to_categorical\n",
        "\n",
        "\n"
      ]
    },
    {
      "cell_type": "code",
      "execution_count": null,
      "id": "db13a962",
      "metadata": {
        "id": "db13a962"
      },
      "outputs": [],
      "source": [
        "import livelossplot\n",
        "plot_losses = livelossplot.PlotLossesKeras()"
      ]
    },
    {
      "cell_type": "code",
      "execution_count": null,
      "id": "308b504a",
      "metadata": {
        "id": "308b504a",
        "outputId": "87b4b789-c2c3-4f62-8804-8ca3ea84717a"
      },
      "outputs": [
        {
          "data": {
            "text/html": [
              "<div>\n",
              "<style scoped>\n",
              "    .dataframe tbody tr th:only-of-type {\n",
              "        vertical-align: middle;\n",
              "    }\n",
              "\n",
              "    .dataframe tbody tr th {\n",
              "        vertical-align: top;\n",
              "    }\n",
              "\n",
              "    .dataframe thead th {\n",
              "        text-align: right;\n",
              "    }\n",
              "</style>\n",
              "<table border=\"1\" class=\"dataframe\">\n",
              "  <thead>\n",
              "    <tr style=\"text-align: right;\">\n",
              "      <th></th>\n",
              "      <th>Pregnancies</th>\n",
              "      <th>Glucose</th>\n",
              "      <th>BloodPressure</th>\n",
              "      <th>SkinThickness</th>\n",
              "      <th>Insulin</th>\n",
              "      <th>BMI</th>\n",
              "      <th>DiabetesPedigreeFunction</th>\n",
              "      <th>Age</th>\n",
              "      <th>Outcome</th>\n",
              "    </tr>\n",
              "  </thead>\n",
              "  <tbody>\n",
              "    <tr>\n",
              "      <th>0</th>\n",
              "      <td>6</td>\n",
              "      <td>148</td>\n",
              "      <td>72</td>\n",
              "      <td>35</td>\n",
              "      <td>0</td>\n",
              "      <td>33.6</td>\n",
              "      <td>0.627</td>\n",
              "      <td>50</td>\n",
              "      <td>1</td>\n",
              "    </tr>\n",
              "    <tr>\n",
              "      <th>1</th>\n",
              "      <td>1</td>\n",
              "      <td>85</td>\n",
              "      <td>66</td>\n",
              "      <td>29</td>\n",
              "      <td>0</td>\n",
              "      <td>26.6</td>\n",
              "      <td>0.351</td>\n",
              "      <td>31</td>\n",
              "      <td>0</td>\n",
              "    </tr>\n",
              "    <tr>\n",
              "      <th>2</th>\n",
              "      <td>8</td>\n",
              "      <td>183</td>\n",
              "      <td>64</td>\n",
              "      <td>0</td>\n",
              "      <td>0</td>\n",
              "      <td>23.3</td>\n",
              "      <td>0.672</td>\n",
              "      <td>32</td>\n",
              "      <td>1</td>\n",
              "    </tr>\n",
              "    <tr>\n",
              "      <th>3</th>\n",
              "      <td>1</td>\n",
              "      <td>89</td>\n",
              "      <td>66</td>\n",
              "      <td>23</td>\n",
              "      <td>94</td>\n",
              "      <td>28.1</td>\n",
              "      <td>0.167</td>\n",
              "      <td>21</td>\n",
              "      <td>0</td>\n",
              "    </tr>\n",
              "    <tr>\n",
              "      <th>4</th>\n",
              "      <td>0</td>\n",
              "      <td>137</td>\n",
              "      <td>40</td>\n",
              "      <td>35</td>\n",
              "      <td>168</td>\n",
              "      <td>43.1</td>\n",
              "      <td>2.288</td>\n",
              "      <td>33</td>\n",
              "      <td>1</td>\n",
              "    </tr>\n",
              "  </tbody>\n",
              "</table>\n",
              "</div>"
            ],
            "text/plain": [
              "   Pregnancies  Glucose  BloodPressure  SkinThickness  Insulin   BMI  \\\n",
              "0            6      148             72             35        0  33.6   \n",
              "1            1       85             66             29        0  26.6   \n",
              "2            8      183             64              0        0  23.3   \n",
              "3            1       89             66             23       94  28.1   \n",
              "4            0      137             40             35      168  43.1   \n",
              "\n",
              "   DiabetesPedigreeFunction  Age  Outcome  \n",
              "0                     0.627   50        1  \n",
              "1                     0.351   31        0  \n",
              "2                     0.672   32        1  \n",
              "3                     0.167   21        0  \n",
              "4                     2.288   33        1  "
            ]
          },
          "execution_count": 127,
          "metadata": {},
          "output_type": "execute_result"
        }
      ],
      "source": [
        "# load dataset\n",
        "df = pd.read_csv(\"diabetes.csv\")\n",
        "\n",
        "df.head()"
      ]
    },
    {
      "cell_type": "markdown",
      "id": "69ddf7ff",
      "metadata": {
        "id": "69ddf7ff"
      },
      "source": [
        "### Example 1"
      ]
    },
    {
      "cell_type": "code",
      "execution_count": null,
      "id": "f9257855",
      "metadata": {
        "id": "f9257855",
        "outputId": "72599b4c-33be-406a-dc83-58769f767756"
      },
      "outputs": [
        {
          "name": "stdout",
          "output_type": "stream",
          "text": [
            "x: \n",
            "    Pregnancies  Glucose  BloodPressure\n",
            "0            6      148             72\n",
            "1            1       85             66\n",
            "2            8      183             64\n",
            "3            1       89             66\n",
            "4            0      137             40\n",
            "y: \n",
            " 0    1\n",
            "1    0\n",
            "2    1\n",
            "3    0\n",
            "4    1\n",
            "Name: Outcome, dtype: int64\n"
          ]
        }
      ],
      "source": [
        "# set x (independent) and y (dependent variables)\n",
        "x = df[['Pregnancies','Glucose','BloodPressure']]\n",
        "print(f\"x: \\n {x.head()}\")\n",
        "\n",
        "y = df['Outcome']\n",
        "print(f\"y: \\n {y.head()}\")"
      ]
    },
    {
      "cell_type": "code",
      "execution_count": null,
      "id": "c37b030b",
      "metadata": {
        "id": "c37b030b",
        "outputId": "a4b09c94-dd1c-42bf-f28f-311e7fe573dd"
      },
      "outputs": [
        {
          "name": "stdout",
          "output_type": "stream",
          "text": [
            "(768, 3)\n",
            "(768,)\n"
          ]
        }
      ],
      "source": [
        "print(x.shape)\n",
        "print(y.shape)"
      ]
    },
    {
      "cell_type": "code",
      "execution_count": null,
      "id": "ba65b57d",
      "metadata": {
        "id": "ba65b57d",
        "outputId": "ed6614f8-595e-41db-e8de-a31a031b7f95"
      },
      "outputs": [
        {
          "name": "stdout",
          "output_type": "stream",
          "text": [
            "Shape of train data:  (614, 3) (614,)\n",
            "Shape of test data:  (154, 3) (154,)\n"
          ]
        }
      ],
      "source": [
        "# spilt into training set and test set\n",
        "from sklearn.model_selection import train_test_split\n",
        "x_train, x_test, y_train, y_test = train_test_split(x, y, test_size = 0.2)\n",
        "\n",
        "# Analyse shape of data\n",
        "print(\"Shape of train data: \",x_train.shape, y_train.shape)\n",
        "print(\"Shape of test data: \",x_test.shape, y_test.shape)\n"
      ]
    },
    {
      "cell_type": "code",
      "execution_count": null,
      "id": "64074e90",
      "metadata": {
        "id": "64074e90",
        "outputId": "7f120354-45b4-4692-8538-6019b7d0c114"
      },
      "outputs": [
        {
          "name": "stdout",
          "output_type": "stream",
          "text": [
            "num_labels:  2\n"
          ]
        }
      ],
      "source": [
        "# compute the number of labels\n",
        "num_labels = len(np.unique(y_train))\n",
        "print(\"num_labels: \", num_labels)\n",
        "\n",
        "# convert labels to one hot encoded values\n",
        "y_train = to_categorical(y_train, num_labels)\n",
        "y_test = to_categorical(y_test, num_labels)"
      ]
    },
    {
      "cell_type": "code",
      "execution_count": null,
      "id": "3f6688ce",
      "metadata": {
        "id": "3f6688ce",
        "outputId": "31cdb02d-d647-428d-c290-60db5f9fad0d"
      },
      "outputs": [
        {
          "data": {
            "text/plain": [
              "array([[0., 1.],\n",
              "       [0., 1.],\n",
              "       [0., 1.],\n",
              "       ...,\n",
              "       [1., 0.],\n",
              "       [1., 0.],\n",
              "       [1., 0.]], dtype=float32)"
            ]
          },
          "execution_count": 132,
          "metadata": {},
          "output_type": "execute_result"
        }
      ],
      "source": [
        "# printing lables after on hot encoding\n",
        "y_train"
      ]
    },
    {
      "cell_type": "code",
      "execution_count": null,
      "id": "fa1b4941",
      "metadata": {
        "id": "fa1b4941"
      },
      "outputs": [],
      "source": [
        "# resize and normalize\n",
        "x_train = x_train.values.reshape((x_train.shape[0],3))\n",
        "x_train = x_train.astype('float32')\n",
        "x_test = x_test.values.reshape((x_test.shape[0],3))\n",
        "x_test = x_test.astype('float32')"
      ]
    },
    {
      "cell_type": "code",
      "execution_count": null,
      "id": "9b68e870",
      "metadata": {
        "id": "9b68e870",
        "outputId": "49ba3b81-9e94-41c1-b62e-6fd86f97b839"
      },
      "outputs": [
        {
          "name": "stdout",
          "output_type": "stream",
          "text": [
            "(614, 3) (614, 2) (154, 3) (154, 2)\n"
          ]
        }
      ],
      "source": [
        "print(x_train.shape,y_train.shape,x_test.shape,y_test.shape)"
      ]
    },
    {
      "cell_type": "code",
      "execution_count": null,
      "id": "342fa728",
      "metadata": {
        "id": "342fa728"
      },
      "outputs": [],
      "source": [
        "# setting network parameters\n",
        "batch_size = 10\n",
        "hidden_nodes = 8\n",
        "dropout = 0.4\n"
      ]
    },
    {
      "cell_type": "code",
      "execution_count": null,
      "id": "3a8ae79a",
      "metadata": {
        "id": "3a8ae79a"
      },
      "outputs": [],
      "source": [
        "# build a Sequential model with 1 hidden layer containing 8 nodes\n",
        "from keras import models\n",
        "model = models.Sequential()\n",
        "model.add(Dense(hidden_nodes, activation='relu',input_dim = 3,name= \"Hidden_Layer_1\"))\n",
        "model.add(Dropout(dropout))\n",
        "model.add(Dense(2, activation = 'softmax',name= \"Output_layer\"))"
      ]
    },
    {
      "cell_type": "code",
      "execution_count": null,
      "id": "ae2d0cce",
      "metadata": {
        "id": "ae2d0cce",
        "outputId": "7633b790-9533-4600-a5fd-6077b2b10618"
      },
      "outputs": [
        {
          "name": "stdout",
          "output_type": "stream",
          "text": [
            "Model: \"sequential_16\"\n",
            "_________________________________________________________________\n",
            " Layer (type)                Output Shape              Param #   \n",
            "=================================================================\n",
            " Hidden_Layer_1 (Dense)      (None, 8)                 32        \n",
            "                                                                 \n",
            " dropout_13 (Dropout)        (None, 8)                 0         \n",
            "                                                                 \n",
            " Output_layer (Dense)        (None, 2)                 18        \n",
            "                                                                 \n",
            "=================================================================\n",
            "Total params: 50\n",
            "Trainable params: 50\n",
            "Non-trainable params: 0\n",
            "_________________________________________________________________\n"
          ]
        }
      ],
      "source": [
        "model.summary()"
      ]
    },
    {
      "cell_type": "code",
      "execution_count": null,
      "id": "14a9020d",
      "metadata": {
        "id": "14a9020d"
      },
      "outputs": [],
      "source": [
        "# compile model\n",
        "model.compile(optimizer='sgd',loss='categorical_crossentropy',\n",
        "              metrics=['accuracy'])\n"
      ]
    },
    {
      "cell_type": "code",
      "execution_count": null,
      "id": "dfca233e",
      "metadata": {
        "id": "dfca233e",
        "outputId": "4449a48c-f777-45c1-e85b-7a4c421b2498"
      },
      "outputs": [
        {
          "data": {
            "image/png": "[encoded data removed]",
            "text/plain": [
              "<Figure size 864x576 with 2 Axes>"
            ]
          },
          "metadata": {
            "needs_background": "light"
          },
          "output_type": "display_data"
        },
        {
          "name": "stdout",
          "output_type": "stream",
          "text": [
            "accuracy\n",
            "\ttraining         \t (min:    0.638, max:    0.655, cur:    0.653)\n",
            "\tvalidation       \t (min:    0.636, max:    0.649, cur:    0.643)\n",
            "Loss\n",
            "\ttraining         \t (min:    0.644, max:    2.834, cur:    0.646)\n",
            "\tvalidation       \t (min:    0.648, max:    0.674, cur:    0.652)\n"
          ]
        },
        {
          "data": {
            "text/plain": [
              "<keras.callbacks.History at 0x23c2d4d7be0>"
            ]
          },
          "execution_count": 140,
          "metadata": {},
          "output_type": "execute_result"
        }
      ],
      "source": [
        "# Training the model\n",
        "model.fit(x_train, y_train, epochs=100,batch_size=batch_size, verbose = False,\n",
        "         validation_data = (x_test, y_test), callbacks=[plot_losses])"
      ]
    },
    {
      "cell_type": "code",
      "execution_count": null,
      "id": "662b84c5",
      "metadata": {
        "id": "662b84c5",
        "outputId": "0ddc24ab-7537-4953-c8ac-21a2168ffe1d"
      },
      "outputs": [
        {
          "name": "stdout",
          "output_type": "stream",
          "text": [
            "[0.6515465378761292, 0.6428571343421936]\n"
          ]
        }
      ],
      "source": [
        "# evaluate model accuracy\n",
        "score = model.evaluate(x_test, y_test, verbose=0)\n",
        "print(score)"
      ]
    },
    {
      "cell_type": "markdown",
      "id": "d24c1d01",
      "metadata": {
        "id": "d24c1d01"
      },
      "source": [
        "### Example 2"
      ]
    },
    {
      "cell_type": "code",
      "execution_count": null,
      "id": "271b50b4",
      "metadata": {
        "id": "271b50b4"
      },
      "outputs": [],
      "source": [
        "# load libraries\n",
        "import numpy as np\n",
        "import pandas as pd\n",
        "import matplotlib.pyplot as plt\n",
        "%matplotlib inline\n",
        "\n",
        "# import required libraries to build model\n",
        "from keras.models import Sequential\n",
        "from keras.layers import Dense , Activation, Dropout\n",
        "from keras.optimizers import Adam ,RMSprop\n",
        "from keras import  backend as K\n",
        "from keras.utils import to_categorical\n",
        "\n",
        "import livelossplot\n",
        "plot_losses = livelossplot.PlotLossesKeras()\n"
      ]
    },
    {
      "cell_type": "code",
      "execution_count": null,
      "id": "909b71fe",
      "metadata": {
        "id": "909b71fe",
        "outputId": "9fa1413d-464b-48c6-948d-9b0206682507"
      },
      "outputs": [
        {
          "data": {
            "text/html": [
              "<div>\n",
              "<style scoped>\n",
              "    .dataframe tbody tr th:only-of-type {\n",
              "        vertical-align: middle;\n",
              "    }\n",
              "\n",
              "    .dataframe tbody tr th {\n",
              "        vertical-align: top;\n",
              "    }\n",
              "\n",
              "    .dataframe thead th {\n",
              "        text-align: right;\n",
              "    }\n",
              "</style>\n",
              "<table border=\"1\" class=\"dataframe\">\n",
              "  <thead>\n",
              "    <tr style=\"text-align: right;\">\n",
              "      <th></th>\n",
              "      <th>Pregnancies</th>\n",
              "      <th>Glucose</th>\n",
              "      <th>BloodPressure</th>\n",
              "      <th>SkinThickness</th>\n",
              "      <th>Insulin</th>\n",
              "      <th>BMI</th>\n",
              "      <th>DiabetesPedigreeFunction</th>\n",
              "      <th>Age</th>\n",
              "      <th>Outcome</th>\n",
              "    </tr>\n",
              "  </thead>\n",
              "  <tbody>\n",
              "    <tr>\n",
              "      <th>0</th>\n",
              "      <td>6</td>\n",
              "      <td>148</td>\n",
              "      <td>72</td>\n",
              "      <td>35</td>\n",
              "      <td>0</td>\n",
              "      <td>33.6</td>\n",
              "      <td>0.627</td>\n",
              "      <td>50</td>\n",
              "      <td>1</td>\n",
              "    </tr>\n",
              "    <tr>\n",
              "      <th>1</th>\n",
              "      <td>1</td>\n",
              "      <td>85</td>\n",
              "      <td>66</td>\n",
              "      <td>29</td>\n",
              "      <td>0</td>\n",
              "      <td>26.6</td>\n",
              "      <td>0.351</td>\n",
              "      <td>31</td>\n",
              "      <td>0</td>\n",
              "    </tr>\n",
              "    <tr>\n",
              "      <th>2</th>\n",
              "      <td>8</td>\n",
              "      <td>183</td>\n",
              "      <td>64</td>\n",
              "      <td>0</td>\n",
              "      <td>0</td>\n",
              "      <td>23.3</td>\n",
              "      <td>0.672</td>\n",
              "      <td>32</td>\n",
              "      <td>1</td>\n",
              "    </tr>\n",
              "    <tr>\n",
              "      <th>3</th>\n",
              "      <td>1</td>\n",
              "      <td>89</td>\n",
              "      <td>66</td>\n",
              "      <td>23</td>\n",
              "      <td>94</td>\n",
              "      <td>28.1</td>\n",
              "      <td>0.167</td>\n",
              "      <td>21</td>\n",
              "      <td>0</td>\n",
              "    </tr>\n",
              "    <tr>\n",
              "      <th>4</th>\n",
              "      <td>0</td>\n",
              "      <td>137</td>\n",
              "      <td>40</td>\n",
              "      <td>35</td>\n",
              "      <td>168</td>\n",
              "      <td>43.1</td>\n",
              "      <td>2.288</td>\n",
              "      <td>33</td>\n",
              "      <td>1</td>\n",
              "    </tr>\n",
              "  </tbody>\n",
              "</table>\n",
              "</div>"
            ],
            "text/plain": [
              "   Pregnancies  Glucose  BloodPressure  SkinThickness  Insulin   BMI  \\\n",
              "0            6      148             72             35        0  33.6   \n",
              "1            1       85             66             29        0  26.6   \n",
              "2            8      183             64              0        0  23.3   \n",
              "3            1       89             66             23       94  28.1   \n",
              "4            0      137             40             35      168  43.1   \n",
              "\n",
              "   DiabetesPedigreeFunction  Age  Outcome  \n",
              "0                     0.627   50        1  \n",
              "1                     0.351   31        0  \n",
              "2                     0.672   32        1  \n",
              "3                     0.167   21        0  \n",
              "4                     2.288   33        1  "
            ]
          },
          "execution_count": 143,
          "metadata": {},
          "output_type": "execute_result"
        }
      ],
      "source": [
        "# load dataset\n",
        "df = pd.read_csv(\"diabetes.csv\")\n",
        "\n",
        "df.head()"
      ]
    },
    {
      "cell_type": "code",
      "execution_count": null,
      "id": "e631afc4",
      "metadata": {
        "id": "e631afc4",
        "outputId": "266e0746-06e1-42da-d06d-a8047753af92"
      },
      "outputs": [
        {
          "name": "stdout",
          "output_type": "stream",
          "text": [
            "x: \n",
            "    Pregnancies  Glucose  BloodPressure  SkinThickness  Insulin   BMI  \\\n",
            "0            6      148             72             35        0  33.6   \n",
            "1            1       85             66             29        0  26.6   \n",
            "2            8      183             64              0        0  23.3   \n",
            "3            1       89             66             23       94  28.1   \n",
            "4            0      137             40             35      168  43.1   \n",
            "\n",
            "   DiabetesPedigreeFunction  Age  \n",
            "0                     0.627   50  \n",
            "1                     0.351   31  \n",
            "2                     0.672   32  \n",
            "3                     0.167   21  \n",
            "4                     2.288   33  \n",
            "y: \n",
            " 0    1\n",
            "1    0\n",
            "2    1\n",
            "3    0\n",
            "4    1\n",
            "Name: Outcome, dtype: int64\n"
          ]
        }
      ],
      "source": [
        "# set x (independent) and y (dependent variables)\n",
        "x = df.iloc[:,:-1]\n",
        "print(f\"x: \\n {x.head()}\")\n",
        "\n",
        "y = df['Outcome']\n",
        "print(f\"y: \\n {y.head()}\")"
      ]
    },
    {
      "cell_type": "code",
      "execution_count": null,
      "id": "085a63cc",
      "metadata": {
        "id": "085a63cc",
        "outputId": "25d298ed-107a-461e-8c7e-97a4d3daddbc"
      },
      "outputs": [
        {
          "name": "stdout",
          "output_type": "stream",
          "text": [
            "(768, 8)\n",
            "(768,)\n"
          ]
        }
      ],
      "source": [
        "print(x.shape)\n",
        "print(y.shape)"
      ]
    },
    {
      "cell_type": "code",
      "execution_count": null,
      "id": "68ccfdb3",
      "metadata": {
        "id": "68ccfdb3",
        "outputId": "3fe4961c-e156-4772-9e0f-6cf4bb3717b4"
      },
      "outputs": [
        {
          "name": "stdout",
          "output_type": "stream",
          "text": [
            "Shape of train data:  (614, 8) (614,)\n",
            "Shape of test data:  (154, 8) (154,)\n"
          ]
        }
      ],
      "source": [
        "# spilt into training set and test set\n",
        "from sklearn.model_selection import train_test_split\n",
        "x_train, x_test, y_train, y_test = train_test_split(x, y, test_size = 0.2)\n",
        "\n",
        "# Analyse shape of data\n",
        "print(\"Shape of train data: \",x_train.shape, y_train.shape)\n",
        "print(\"Shape of test data: \",x_test.shape, y_test.shape)\n"
      ]
    },
    {
      "cell_type": "code",
      "execution_count": null,
      "id": "c8bbb621",
      "metadata": {
        "id": "c8bbb621"
      },
      "outputs": [],
      "source": [
        "# resize and normalize\n",
        "x_train = x_train.values.reshape((x_train.shape[0],8))\n",
        "x_train = x_train.astype('float32')\n",
        "x_test = x_test.values.reshape((x_test.shape[0],8))\n",
        "x_test = x_test.astype('float32')"
      ]
    },
    {
      "cell_type": "code",
      "execution_count": null,
      "id": "5d4a3712",
      "metadata": {
        "id": "5d4a3712",
        "outputId": "8926cece-7e22-49a8-9fd8-32c41d7fb666"
      },
      "outputs": [
        {
          "name": "stdout",
          "output_type": "stream",
          "text": [
            "num_labels:  2\n"
          ]
        }
      ],
      "source": [
        "# compute the number of labels\n",
        "num_labels = len(np.unique(y_train))\n",
        "print(\"num_labels: \", num_labels)\n",
        "\n",
        "# convert labels to one hot encoded values\n",
        "y_train = to_categorical(y_train, num_labels)\n",
        "y_test = to_categorical(y_test, num_labels)"
      ]
    },
    {
      "cell_type": "code",
      "execution_count": null,
      "id": "490e4cc4",
      "metadata": {
        "id": "490e4cc4",
        "outputId": "ad921717-fa1e-4b2b-9e21-55dad909369c"
      },
      "outputs": [
        {
          "data": {
            "text/plain": [
              "array([[0., 1.],\n",
              "       [0., 1.],\n",
              "       [1., 0.],\n",
              "       ...,\n",
              "       [1., 0.],\n",
              "       [0., 1.],\n",
              "       [0., 1.]], dtype=float32)"
            ]
          },
          "execution_count": 149,
          "metadata": {},
          "output_type": "execute_result"
        }
      ],
      "source": [
        "# printing lables after on hot encoding\n",
        "y_train"
      ]
    },
    {
      "cell_type": "code",
      "execution_count": null,
      "id": "d70e204f",
      "metadata": {
        "id": "d70e204f",
        "outputId": "1c01c594-e6b5-4d2c-9c7d-91ba3357477f"
      },
      "outputs": [
        {
          "name": "stdout",
          "output_type": "stream",
          "text": [
            "(614, 8) (614, 2) (154, 8) (154, 2)\n"
          ]
        }
      ],
      "source": [
        "print(x_train.shape,y_train.shape,x_test.shape,y_test.shape)"
      ]
    },
    {
      "cell_type": "code",
      "execution_count": null,
      "id": "ea7caf72",
      "metadata": {
        "id": "ea7caf72"
      },
      "outputs": [],
      "source": [
        "# setting network parameters\n",
        "batch_size = 10\n",
        "hidden_nodes = 16\n"
      ]
    },
    {
      "cell_type": "code",
      "execution_count": null,
      "id": "d5cfd23a",
      "metadata": {
        "id": "d5cfd23a"
      },
      "outputs": [],
      "source": [
        "# build a Sequential model with 3 hidden layer containing 16 nodes each\n",
        "from keras import models\n",
        "model = models.Sequential()\n",
        "model.add(Dense(hidden_nodes, activation='relu',input_dim = 8,name= \"Hidden_Layer_1\"))\n",
        "model.add(Dropout(0.5))\n",
        "model.add(Dense(hidden_nodes, activation='relu',input_dim = 8,name= \"Hidden_Layer_2\"))\n",
        "model.add(Dropout(0.4))\n",
        "model.add(Dense(hidden_nodes, activation='relu',input_dim = 8,name= \"Hidden_Layer_3\"))\n",
        "model.add(Dropout(0.25))\n",
        "model.add(Dense(2, activation = 'softmax',name= \"Output_layer\"))"
      ]
    },
    {
      "cell_type": "code",
      "execution_count": null,
      "id": "a2547dbf",
      "metadata": {
        "id": "a2547dbf",
        "outputId": "793de18c-52bb-4189-f2cd-9eba1b613002"
      },
      "outputs": [
        {
          "name": "stdout",
          "output_type": "stream",
          "text": [
            "Model: \"sequential_17\"\n",
            "_________________________________________________________________\n",
            " Layer (type)                Output Shape              Param #   \n",
            "=================================================================\n",
            " Hidden_Layer_1 (Dense)      (None, 16)                144       \n",
            "                                                                 \n",
            " dropout_14 (Dropout)        (None, 16)                0         \n",
            "                                                                 \n",
            " Hidden_Layer_2 (Dense)      (None, 16)                272       \n",
            "                                                                 \n",
            " dropout_15 (Dropout)        (None, 16)                0         \n",
            "                                                                 \n",
            " Hidden_Layer_3 (Dense)      (None, 16)                272       \n",
            "                                                                 \n",
            " dropout_16 (Dropout)        (None, 16)                0         \n",
            "                                                                 \n",
            " Output_layer (Dense)        (None, 2)                 34        \n",
            "                                                                 \n",
            "=================================================================\n",
            "Total params: 722\n",
            "Trainable params: 722\n",
            "Non-trainable params: 0\n",
            "_________________________________________________________________\n"
          ]
        }
      ],
      "source": [
        "model.summary()"
      ]
    },
    {
      "cell_type": "code",
      "execution_count": null,
      "id": "ca2dee8f",
      "metadata": {
        "id": "ca2dee8f"
      },
      "outputs": [],
      "source": [
        "# compile model\n",
        "model.compile(optimizer='adam',loss='categorical_crossentropy',\n",
        "              metrics=['accuracy'])\n"
      ]
    },
    {
      "cell_type": "code",
      "execution_count": null,
      "id": "f097e483",
      "metadata": {
        "id": "f097e483",
        "outputId": "f3c595d1-029c-4f76-9feb-edaac2e02e13"
      },
      "outputs": [
        {
          "data": {
            "image/png": "[encoded data removed]",
            "text/plain": [
              "<Figure size 864x576 with 2 Axes>"
            ]
          },
          "metadata": {
            "needs_background": "light"
          },
          "output_type": "display_data"
        },
        {
          "name": "stdout",
          "output_type": "stream",
          "text": [
            "accuracy\n",
            "\ttraining         \t (min:    0.498, max:    0.689, cur:    0.687)\n",
            "\tvalidation       \t (min:    0.591, max:    0.636, cur:    0.610)\n",
            "Loss\n",
            "\ttraining         \t (min:    0.612, max:   12.560, cur:    0.615)\n",
            "\tvalidation       \t (min:    0.665, max:    2.993, cur:    0.675)\n"
          ]
        },
        {
          "data": {
            "text/plain": [
              "<keras.callbacks.History at 0x23c32303a90>"
            ]
          },
          "execution_count": 155,
          "metadata": {},
          "output_type": "execute_result"
        }
      ],
      "source": [
        "# Training the model\n",
        "model.fit(x_train, y_train, epochs=150,batch_size=batch_size, verbose = False,\n",
        "         validation_data = (x_test, y_test), callbacks=[plot_losses])"
      ]
    },
    {
      "cell_type": "code",
      "execution_count": null,
      "id": "919e73d1",
      "metadata": {
        "id": "919e73d1",
        "outputId": "ffec543c-8054-4c83-faa0-2ccd32a92be0"
      },
      "outputs": [
        {
          "name": "stdout",
          "output_type": "stream",
          "text": [
            "Accuracy Score:  [0.6752248406410217, 0.6103895902633667]\n"
          ]
        }
      ],
      "source": [
        "# evaluate model accuracy\n",
        "score = model.evaluate(x_test, y_test, verbose=0)\n",
        "print(\"Accuracy Score: \",score)"
      ]
    },
    {
      "cell_type": "code",
      "execution_count": null,
      "id": "18014381",
      "metadata": {
        "id": "18014381"
      },
      "outputs": [],
      "source": []
    },
    {
      "cell_type": "code",
      "execution_count": null,
      "id": "a435b5c2",
      "metadata": {
        "id": "a435b5c2"
      },
      "outputs": [],
      "source": []
    }
  ],
  "metadata": {
    "kernelspec": {
      "display_name": "Python 3 (ipykernel)",
      "language": "python",
      "name": "python3"
    },
    "language_info": {
      "codemirror_mode": {
        "name": "ipython",
        "version": 3
      },
      "file_extension": ".py",
      "mimetype": "text/x-python",
      "name": "python",
      "nbconvert_exporter": "python",
      "pygments_lexer": "ipython3",
      "version": "3.9.12"
    },
    "colab": {
      "provenance": [],
      "include_colab_link": true
    }
  },
  "nbformat": 4,
  "nbformat_minor": 5
}