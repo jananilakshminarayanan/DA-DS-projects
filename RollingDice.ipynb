{
  "nbformat": 4,
  "nbformat_minor": 0,
  "metadata": {
    "colab": {
      "provenance": [],
      "include_colab_link": true
    },
    "kernelspec": {
      "name": "python3",
      "display_name": "Python 3"
    },
    "language_info": {
      "name": "python"
    }
  },
  "cells": [
    {
      "cell_type": "markdown",
      "metadata": {
        "id": "view-in-github",
        "colab_type": "text"
      },
      "source": [
        "<a href=\"https://colab.research.google.com/github/jananilakshminarayanan/DA-DS-projects/blob/main/RollingDice.ipynb\" target=\"_parent\"><img src=\"https://colab.research.google.com/assets/colab-badge.svg\" alt=\"Open In Colab\"/></a>"
      ]
    },
    {
      "cell_type": "markdown",
      "source": [
        "## This file serves as a User defined module which will be used in another main file to simulate a dice game"
      ],
      "metadata": {
        "id": "EwT9kchs4VeC"
      }
    },
    {
      "cell_type": "code",
      "execution_count": null,
      "metadata": {
        "id": "uInEfbB21kxo"
      },
      "outputs": [],
      "source": [
        "# import necessary modules\n",
        "from random import choice\n",
        "from IPython.display import Image, display, clear_output\n",
        "import time\n",
        "\n",
        "# Load dice images\n",
        "dice_imgs = {\n",
        "    #1: \"dice_1.png\",\n",
        "    1: \"https://game-icons.net/icons/ffffff/000000/1x1/delapouite/dice-six-faces-one.png\",\n",
        "    2: \"https://game-icons.net/icons/ffffff/000000/1x1/delapouite/dice-six-faces-two.png\",\n",
        "    3: \"https://game-icons.net/icons/ffffff/000000/1x1/delapouite/dice-six-faces-three.png\",\n",
        "    4: \"https://game-icons.net/icons/ffffff/000000/1x1/delapouite/dice-six-faces-four.png\",\n",
        "    5: \"https://game-icons.net/icons/ffffff/000000/1x1/delapouite/dice-six-faces-five.png\",\n",
        "    6: \"https://game-icons.net/icons/ffffff/000000/1x1/delapouite/dice-six-faces-six.png\",\n",
        "}\n",
        "dice_rolling_gif = \"https://media.tenor.com/sUiwSBs8S6QAAAAi/dice-game.gif\"\n",
        "\n",
        "def rolling():\n",
        "  # set dice value using random choice\n",
        "  print(\"Dice is rolling...\")\n",
        "  # Show dice rolling GIF\n",
        "  display(Image(url=dice_rolling_gif, width=100, height=100))  # Display using IPython.display\n",
        "  time.sleep(2)  # Simulate the dice rolling for 2 seconds\n",
        "\n",
        "  # Clear the GIF from the output\n",
        "  clear_output(wait=True)\n",
        "\n",
        "def roll_dice():\n",
        "  # assign face value\n",
        "  dice_value = choice([1,2,3,4,5,6])\n",
        "\n",
        "  # call rolling to simulate gif\n",
        "  rolling()\n",
        "\n",
        "  # Show the dice face that corresponds to the rolled value\n",
        "  display(Image(url=dice_imgs[dice_value], width=100, height=100))  # Display using IPython.display\n",
        "  return dice_value\n",
        "\n",
        "def first_roll():\n",
        "  # roll the dice for first time\n",
        "  # game should start only if o/p is 1\n",
        "  print(\"Game begins only if you roll a 1\")\n",
        "  fr = roll_dice()\n",
        "  print(\"You rolled a \", fr)\n",
        "\n",
        "  if fr != 1:\n",
        "    # game doesnt start if roll is not 1\n",
        "    print(\"Better luck next time!\")\n",
        "    return 0\n",
        "  else:\n",
        "    # if roll is 1 exit the function\n",
        "    print(\"Game begins...\")\n",
        "    return 1\n",
        "\n",
        "def game_start():\n",
        "  # initiate score\n",
        "  # since game starts only when dice is rolled to 1, initial score will be 1\n",
        "  score = 1\n",
        "\n",
        "  while score > 0:\n",
        "    # accumulate score by rolling the dice\n",
        "    dice_value = roll_dice()\n",
        "    score = score + dice_value\n",
        "    print(\"You rolled a \", dice_value)\n",
        "\n",
        "    # a roll of 6 will earn another roll\n",
        "    if dice_value == 6:\n",
        "      # roll again incase of 6\n",
        "      print(\"Yay a 6! Rolling again...\")\n",
        "    else:\n",
        "      # else turn over\n",
        "      return score\n",
        "\n",
        "\n"
      ]
    },
    {
      "cell_type": "code",
      "source": [],
      "metadata": {
        "id": "StrHNBBtzrKY"
      },
      "execution_count": null,
      "outputs": []
    }
  ]
}