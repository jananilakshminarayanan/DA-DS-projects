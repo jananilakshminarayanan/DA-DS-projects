{
  "cells": [
    {
      "cell_type": "markdown",
      "metadata": {
        "id": "view-in-github",
        "colab_type": "text"
      },
      "source": [
        "<a href=\"https://colab.research.google.com/github/jananilakshminarayanan/DA-DS-projects/blob/main/Analyzing_Name_Trends_.ipynb\" target=\"_parent\"><img src=\"https://colab.research.google.com/assets/colab-badge.svg\" alt=\"Open In Colab\"/></a>"
      ]
    },
    {
      "cell_type": "markdown",
      "id": "6eb65dc2",
      "metadata": {
        "id": "6eb65dc2"
      },
      "source": [
        "## Python for DS - Project 1: Analysing Naming trends using python"
      ]
    },
    {
      "cell_type": "markdown",
      "id": "529da021",
      "metadata": {
        "id": "529da021"
      },
      "source": [
        "### Step 1: Load required libraries"
      ]
    },
    {
      "cell_type": "code",
      "execution_count": null,
      "id": "f8b75bbe",
      "metadata": {
        "id": "f8b75bbe"
      },
      "outputs": [],
      "source": [
        "import pandas as pd\n",
        "import numpy as np\n",
        "from zipfile import ZipFile\n",
        "import os, glob\n",
        "import matplotlib.pyplot as plt\n",
        "%matplotlib inline"
      ]
    },
    {
      "cell_type": "markdown",
      "id": "8c9f6ec3",
      "metadata": {
        "id": "8c9f6ec3"
      },
      "source": [
        "### Step 2: Download the zip file names from project url site and unzip data into a specific folder"
      ]
    },
    {
      "cell_type": "code",
      "execution_count": null,
      "id": "858a2200",
      "metadata": {
        "id": "858a2200"
      },
      "outputs": [],
      "source": [
        "with ZipFile(r'C:\\Users\\dell\\Desktop\\python_for_DS\\names.zip') as z:\n",
        "    z.extractall(r'C:\\Users\\dell\\Desktop\\python_for_DS\\namesdf')\n"
      ]
    },
    {
      "cell_type": "markdown",
      "id": "aba618e8",
      "metadata": {
        "id": "aba618e8"
      },
      "source": [
        "### Step 3: load all the unzipped files data into a pd DataFrame and analyze the data"
      ]
    },
    {
      "cell_type": "code",
      "execution_count": null,
      "id": "2c04e8bf",
      "metadata": {
        "id": "2c04e8bf",
        "outputId": "62fcb486-7e27-43ee-9ccf-7dd8b7581eee"
      },
      "outputs": [
        {
          "data": {
            "text/html": [
              "<div>\n",
              "<style scoped>\n",
              "    .dataframe tbody tr th:only-of-type {\n",
              "        vertical-align: middle;\n",
              "    }\n",
              "\n",
              "    .dataframe tbody tr th {\n",
              "        vertical-align: top;\n",
              "    }\n",
              "\n",
              "    .dataframe thead th {\n",
              "        text-align: right;\n",
              "    }\n",
              "</style>\n",
              "<table border=\"1\" class=\"dataframe\">\n",
              "  <thead>\n",
              "    <tr style=\"text-align: right;\">\n",
              "      <th></th>\n",
              "      <th>name</th>\n",
              "      <th>sex</th>\n",
              "      <th>no.of.births</th>\n",
              "      <th>year</th>\n",
              "    </tr>\n",
              "  </thead>\n",
              "  <tbody>\n",
              "    <tr>\n",
              "      <th>0</th>\n",
              "      <td>Mary</td>\n",
              "      <td>F</td>\n",
              "      <td>7065</td>\n",
              "      <td>1880</td>\n",
              "    </tr>\n",
              "    <tr>\n",
              "      <th>1</th>\n",
              "      <td>Anna</td>\n",
              "      <td>F</td>\n",
              "      <td>2604</td>\n",
              "      <td>1880</td>\n",
              "    </tr>\n",
              "    <tr>\n",
              "      <th>2</th>\n",
              "      <td>Emma</td>\n",
              "      <td>F</td>\n",
              "      <td>2003</td>\n",
              "      <td>1880</td>\n",
              "    </tr>\n",
              "    <tr>\n",
              "      <th>3</th>\n",
              "      <td>Elizabeth</td>\n",
              "      <td>F</td>\n",
              "      <td>1939</td>\n",
              "      <td>1880</td>\n",
              "    </tr>\n",
              "    <tr>\n",
              "      <th>4</th>\n",
              "      <td>Minnie</td>\n",
              "      <td>F</td>\n",
              "      <td>1746</td>\n",
              "      <td>1880</td>\n",
              "    </tr>\n",
              "  </tbody>\n",
              "</table>\n",
              "</div>"
            ],
            "text/plain": [
              "        name sex  no.of.births  year\n",
              "0       Mary   F          7065  1880\n",
              "1       Anna   F          2604  1880\n",
              "2       Emma   F          2003  1880\n",
              "3  Elizabeth   F          1939  1880\n",
              "4     Minnie   F          1746  1880"
            ]
          },
          "execution_count": 2,
          "metadata": {},
          "output_type": "execute_result"
        }
      ],
      "source": [
        "# Define relative path to folder containing the text files\n",
        "\n",
        "files_folder = r'C:\\Users\\dell\\Desktop\\python_for_DS\\namesdf'\n",
        "files = []\n",
        "\n",
        "# Create a dataframe list by iterating pd.read_csv in a for loop\n",
        "# using path.join we are concatenating all text file paths into a single user path\n",
        "for file in glob.glob(os.path.join(files_folder ,\"*.txt\")):\n",
        "    name=pd.read_csv(file, delimiter=',', names =['name', 'sex', 'no.of.births'])\n",
        "    year = \"\".join(filter(lambda i: i.isdigit(), file)) # separate year i.e no digits from filename\n",
        "    name['year'] = year\n",
        "    files.append(name)\n",
        "\n",
        "# Concatenate the list of DataFrames into one\n",
        "files_df = pd.concat(files)\n",
        "# first five entries\n",
        "files_df.head()"
      ]
    },
    {
      "cell_type": "code",
      "execution_count": null,
      "id": "81fd277e",
      "metadata": {
        "id": "81fd277e",
        "outputId": "16fcd5f6-b3b7-40f7-8d7d-570c0a64b3e5"
      },
      "outputs": [
        {
          "data": {
            "text/html": [
              "<div>\n",
              "<style scoped>\n",
              "    .dataframe tbody tr th:only-of-type {\n",
              "        vertical-align: middle;\n",
              "    }\n",
              "\n",
              "    .dataframe tbody tr th {\n",
              "        vertical-align: top;\n",
              "    }\n",
              "\n",
              "    .dataframe thead th {\n",
              "        text-align: right;\n",
              "    }\n",
              "</style>\n",
              "<table border=\"1\" class=\"dataframe\">\n",
              "  <thead>\n",
              "    <tr style=\"text-align: right;\">\n",
              "      <th></th>\n",
              "      <th>name</th>\n",
              "      <th>sex</th>\n",
              "      <th>no.of.births</th>\n",
              "      <th>year</th>\n",
              "    </tr>\n",
              "  </thead>\n",
              "  <tbody>\n",
              "    <tr>\n",
              "      <th>31532</th>\n",
              "      <td>Zyeire</td>\n",
              "      <td>M</td>\n",
              "      <td>5</td>\n",
              "      <td>2021</td>\n",
              "    </tr>\n",
              "    <tr>\n",
              "      <th>31533</th>\n",
              "      <td>Zyel</td>\n",
              "      <td>M</td>\n",
              "      <td>5</td>\n",
              "      <td>2021</td>\n",
              "    </tr>\n",
              "    <tr>\n",
              "      <th>31534</th>\n",
              "      <td>Zyian</td>\n",
              "      <td>M</td>\n",
              "      <td>5</td>\n",
              "      <td>2021</td>\n",
              "    </tr>\n",
              "    <tr>\n",
              "      <th>31535</th>\n",
              "      <td>Zylar</td>\n",
              "      <td>M</td>\n",
              "      <td>5</td>\n",
              "      <td>2021</td>\n",
              "    </tr>\n",
              "    <tr>\n",
              "      <th>31536</th>\n",
              "      <td>Zyn</td>\n",
              "      <td>M</td>\n",
              "      <td>5</td>\n",
              "      <td>2021</td>\n",
              "    </tr>\n",
              "  </tbody>\n",
              "</table>\n",
              "</div>"
            ],
            "text/plain": [
              "         name sex  no.of.births  year\n",
              "31532  Zyeire   M             5  2021\n",
              "31533    Zyel   M             5  2021\n",
              "31534   Zyian   M             5  2021\n",
              "31535   Zylar   M             5  2021\n",
              "31536     Zyn   M             5  2021"
            ]
          },
          "execution_count": 3,
          "metadata": {},
          "output_type": "execute_result"
        }
      ],
      "source": [
        "files_df.tail() #last five entries"
      ]
    },
    {
      "cell_type": "code",
      "execution_count": null,
      "id": "bd779d2d",
      "metadata": {
        "id": "bd779d2d",
        "outputId": "6755ce73-db47-4dec-e1c2-bde6aa7aab28"
      },
      "outputs": [
        {
          "data": {
            "text/plain": [
              "(2052781, 4)"
            ]
          },
          "execution_count": 4,
          "metadata": {},
          "output_type": "execute_result"
        }
      ],
      "source": [
        "# total entries and shape of df\n",
        "files_df.shape"
      ]
    },
    {
      "cell_type": "code",
      "execution_count": null,
      "id": "a15ef975",
      "metadata": {
        "id": "a15ef975",
        "outputId": "40fdaa6c-6e81-43a2-b838-9a9bf685064c"
      },
      "outputs": [
        {
          "name": "stdout",
          "output_type": "stream",
          "text": [
            "Number of Names: 101338\n"
          ]
        }
      ],
      "source": [
        "# no of unique names in the df\n",
        "print(\"Number of Names: {}\".format(files_df.name.unique().shape[0])) # unique() gives mon repetitive data and shape gives count value"
      ]
    },
    {
      "cell_type": "code",
      "execution_count": null,
      "id": "b406dc31",
      "metadata": {
        "id": "b406dc31",
        "outputId": "ad0e1dbf-7c78-480e-c7e3-81c3c6095b5d"
      },
      "outputs": [
        {
          "data": {
            "text/plain": [
              "sex\n",
              "F    179027755\n",
              "M    182860478\n",
              "Name: no.of.births, dtype: int64"
            ]
          },
          "execution_count": 10,
          "metadata": {},
          "output_type": "execute_result"
        }
      ],
      "source": [
        "# total no of male and female births\n",
        "files_df.groupby('sex')['no.of.births'].sum()"
      ]
    },
    {
      "cell_type": "markdown",
      "id": "19acb585",
      "metadata": {
        "id": "19acb585"
      },
      "source": [
        "### Note - The glob() function returns an array of filenames or directories matching a specified pattern. We can use it to search for files where filename matches a certain pattern by using wildcard characters. for eg: here we have searched text files by using \".txt\"\n"
      ]
    },
    {
      "cell_type": "markdown",
      "id": "b31f0dd4",
      "metadata": {
        "id": "b31f0dd4"
      },
      "source": [
        "### Step 4: Visualize no of male and female babies born in a particular year using plots and graphs"
      ]
    },
    {
      "cell_type": "code",
      "execution_count": null,
      "id": "93660e12",
      "metadata": {
        "id": "93660e12",
        "outputId": "6efc3a82-68ec-426d-fd9a-bee14f6864c9"
      },
      "outputs": [
        {
          "data": {
            "text/html": [
              "<div>\n",
              "<style scoped>\n",
              "    .dataframe tbody tr th:only-of-type {\n",
              "        vertical-align: middle;\n",
              "    }\n",
              "\n",
              "    .dataframe tbody tr th {\n",
              "        vertical-align: top;\n",
              "    }\n",
              "\n",
              "    .dataframe thead th {\n",
              "        text-align: right;\n",
              "    }\n",
              "</style>\n",
              "<table border=\"1\" class=\"dataframe\">\n",
              "  <thead>\n",
              "    <tr style=\"text-align: right;\">\n",
              "      <th>year</th>\n",
              "      <th>1880</th>\n",
              "      <th>1881</th>\n",
              "      <th>1882</th>\n",
              "      <th>1883</th>\n",
              "      <th>1884</th>\n",
              "      <th>1885</th>\n",
              "      <th>1886</th>\n",
              "      <th>1887</th>\n",
              "      <th>1888</th>\n",
              "      <th>1889</th>\n",
              "      <th>...</th>\n",
              "      <th>2013</th>\n",
              "      <th>2014</th>\n",
              "      <th>2015</th>\n",
              "      <th>2016</th>\n",
              "      <th>2017</th>\n",
              "      <th>2018</th>\n",
              "      <th>2019</th>\n",
              "      <th>2020</th>\n",
              "      <th>2021</th>\n",
              "      <th>All</th>\n",
              "    </tr>\n",
              "    <tr>\n",
              "      <th>sex</th>\n",
              "      <th></th>\n",
              "      <th></th>\n",
              "      <th></th>\n",
              "      <th></th>\n",
              "      <th></th>\n",
              "      <th></th>\n",
              "      <th></th>\n",
              "      <th></th>\n",
              "      <th></th>\n",
              "      <th></th>\n",
              "      <th></th>\n",
              "      <th></th>\n",
              "      <th></th>\n",
              "      <th></th>\n",
              "      <th></th>\n",
              "      <th></th>\n",
              "      <th></th>\n",
              "      <th></th>\n",
              "      <th></th>\n",
              "      <th></th>\n",
              "      <th></th>\n",
              "    </tr>\n",
              "  </thead>\n",
              "  <tbody>\n",
              "    <tr>\n",
              "      <th>F</th>\n",
              "      <td>90994</td>\n",
              "      <td>91953</td>\n",
              "      <td>107847</td>\n",
              "      <td>112319</td>\n",
              "      <td>129019</td>\n",
              "      <td>133055</td>\n",
              "      <td>144533</td>\n",
              "      <td>145982</td>\n",
              "      <td>178622</td>\n",
              "      <td>178366</td>\n",
              "      <td>...</td>\n",
              "      <td>1752777</td>\n",
              "      <td>1784227</td>\n",
              "      <td>1782611</td>\n",
              "      <td>1769164</td>\n",
              "      <td>1723043</td>\n",
              "      <td>1696917</td>\n",
              "      <td>1673030</td>\n",
              "      <td>1609171</td>\n",
              "      <td>1627098</td>\n",
              "      <td>179027755</td>\n",
              "    </tr>\n",
              "    <tr>\n",
              "      <th>M</th>\n",
              "      <td>110490</td>\n",
              "      <td>100737</td>\n",
              "      <td>113686</td>\n",
              "      <td>104625</td>\n",
              "      <td>114442</td>\n",
              "      <td>107799</td>\n",
              "      <td>110784</td>\n",
              "      <td>101411</td>\n",
              "      <td>120851</td>\n",
              "      <td>110580</td>\n",
              "      <td>...</td>\n",
              "      <td>1889640</td>\n",
              "      <td>1918546</td>\n",
              "      <td>1914078</td>\n",
              "      <td>1894723</td>\n",
              "      <td>1847191</td>\n",
              "      <td>1811738</td>\n",
              "      <td>1788414</td>\n",
              "      <td>1718248</td>\n",
              "      <td>1734277</td>\n",
              "      <td>182860478</td>\n",
              "    </tr>\n",
              "    <tr>\n",
              "      <th>All</th>\n",
              "      <td>201484</td>\n",
              "      <td>192690</td>\n",
              "      <td>221533</td>\n",
              "      <td>216944</td>\n",
              "      <td>243461</td>\n",
              "      <td>240854</td>\n",
              "      <td>255317</td>\n",
              "      <td>247393</td>\n",
              "      <td>299473</td>\n",
              "      <td>288946</td>\n",
              "      <td>...</td>\n",
              "      <td>3642417</td>\n",
              "      <td>3702773</td>\n",
              "      <td>3696689</td>\n",
              "      <td>3663887</td>\n",
              "      <td>3570234</td>\n",
              "      <td>3508655</td>\n",
              "      <td>3461444</td>\n",
              "      <td>3327419</td>\n",
              "      <td>3361375</td>\n",
              "      <td>361888233</td>\n",
              "    </tr>\n",
              "  </tbody>\n",
              "</table>\n",
              "<p>3 rows × 143 columns</p>\n",
              "</div>"
            ],
            "text/plain": [
              "year    1880    1881    1882    1883    1884    1885    1886    1887    1888  \\\n",
              "sex                                                                            \n",
              "F      90994   91953  107847  112319  129019  133055  144533  145982  178622   \n",
              "M     110490  100737  113686  104625  114442  107799  110784  101411  120851   \n",
              "All   201484  192690  221533  216944  243461  240854  255317  247393  299473   \n",
              "\n",
              "year    1889  ...     2013     2014     2015     2016     2017     2018  \\\n",
              "sex           ...                                                         \n",
              "F     178366  ...  1752777  1784227  1782611  1769164  1723043  1696917   \n",
              "M     110580  ...  1889640  1918546  1914078  1894723  1847191  1811738   \n",
              "All   288946  ...  3642417  3702773  3696689  3663887  3570234  3508655   \n",
              "\n",
              "year     2019     2020     2021        All  \n",
              "sex                                         \n",
              "F     1673030  1609171  1627098  179027755  \n",
              "M     1788414  1718248  1734277  182860478  \n",
              "All   3461444  3327419  3361375  361888233  \n",
              "\n",
              "[3 rows x 143 columns]"
            ]
          },
          "execution_count": 12,
          "metadata": {},
          "output_type": "execute_result"
        }
      ],
      "source": [
        "# no of boy and girl babies born each year - analysis using pivot table\n",
        "babies_pivot = files_df.pivot_table(index='sex', columns='year', values='no.of.births', aggfunc=np.sum, margins=True)\n",
        "babies_pivot"
      ]
    },
    {
      "cell_type": "code",
      "execution_count": null,
      "id": "fc2769b5",
      "metadata": {
        "id": "fc2769b5",
        "outputId": "68c3edf5-7c38-4533-9a0b-78a6a449c896"
      },
      "outputs": [
        {
          "data": {
            "text/plain": [
              "<AxesSubplot:xlabel='year'>"
            ]
          },
          "execution_count": 5,
          "metadata": {},
          "output_type": "execute_result"
        },
        {
          "data": {
            "image/png": "[encoded data removed]",
            "text/plain": [
              "<Figure size 432x288 with 1 Axes>"
            ]
          },
          "metadata": {
            "needs_background": "light"
          },
          "output_type": "display_data"
        }
      ],
      "source": [
        "# visualize no of male and female babies born in each year using df plots\n",
        "files_df.pivot_table('no.of.births', index='year',columns='sex',aggfunc='sum').plot()\n"
      ]
    },
    {
      "cell_type": "markdown",
      "id": "3be37d00",
      "metadata": {
        "id": "3be37d00"
      },
      "source": [
        "### Step 5: Analyse baby names by sorting out top 100 births and find out popular names by using grouping method"
      ]
    },
    {
      "cell_type": "code",
      "execution_count": null,
      "id": "bfee41c3",
      "metadata": {
        "id": "bfee41c3",
        "outputId": "3f81d6e5-6d8c-4b51-8899-9248968d259f"
      },
      "outputs": [
        {
          "data": {
            "text/html": [
              "<div>\n",
              "<style scoped>\n",
              "    .dataframe tbody tr th:only-of-type {\n",
              "        vertical-align: middle;\n",
              "    }\n",
              "\n",
              "    .dataframe tbody tr th {\n",
              "        vertical-align: top;\n",
              "    }\n",
              "\n",
              "    .dataframe thead th {\n",
              "        text-align: right;\n",
              "    }\n",
              "</style>\n",
              "<table border=\"1\" class=\"dataframe\">\n",
              "  <thead>\n",
              "    <tr style=\"text-align: right;\">\n",
              "      <th></th>\n",
              "      <th></th>\n",
              "      <th></th>\n",
              "      <th>name</th>\n",
              "      <th>sex</th>\n",
              "      <th>no.of.births</th>\n",
              "      <th>year</th>\n",
              "    </tr>\n",
              "    <tr>\n",
              "      <th>year</th>\n",
              "      <th>sex</th>\n",
              "      <th></th>\n",
              "      <th></th>\n",
              "      <th></th>\n",
              "      <th></th>\n",
              "      <th></th>\n",
              "    </tr>\n",
              "  </thead>\n",
              "  <tbody>\n",
              "    <tr>\n",
              "      <th rowspan=\"5\" valign=\"top\">1880</th>\n",
              "      <th rowspan=\"5\" valign=\"top\">F</th>\n",
              "      <th>0</th>\n",
              "      <td>Mary</td>\n",
              "      <td>F</td>\n",
              "      <td>7065</td>\n",
              "      <td>1880</td>\n",
              "    </tr>\n",
              "    <tr>\n",
              "      <th>1</th>\n",
              "      <td>Anna</td>\n",
              "      <td>F</td>\n",
              "      <td>2604</td>\n",
              "      <td>1880</td>\n",
              "    </tr>\n",
              "    <tr>\n",
              "      <th>2</th>\n",
              "      <td>Emma</td>\n",
              "      <td>F</td>\n",
              "      <td>2003</td>\n",
              "      <td>1880</td>\n",
              "    </tr>\n",
              "    <tr>\n",
              "      <th>3</th>\n",
              "      <td>Elizabeth</td>\n",
              "      <td>F</td>\n",
              "      <td>1939</td>\n",
              "      <td>1880</td>\n",
              "    </tr>\n",
              "    <tr>\n",
              "      <th>4</th>\n",
              "      <td>Minnie</td>\n",
              "      <td>F</td>\n",
              "      <td>1746</td>\n",
              "      <td>1880</td>\n",
              "    </tr>\n",
              "    <tr>\n",
              "      <th>...</th>\n",
              "      <th>...</th>\n",
              "      <th>...</th>\n",
              "      <td>...</td>\n",
              "      <td>...</td>\n",
              "      <td>...</td>\n",
              "      <td>...</td>\n",
              "    </tr>\n",
              "    <tr>\n",
              "      <th rowspan=\"5\" valign=\"top\">2021</th>\n",
              "      <th rowspan=\"5\" valign=\"top\">M</th>\n",
              "      <th>17640</th>\n",
              "      <td>Connor</td>\n",
              "      <td>M</td>\n",
              "      <td>3752</td>\n",
              "      <td>2021</td>\n",
              "    </tr>\n",
              "    <tr>\n",
              "      <th>17639</th>\n",
              "      <td>Austin</td>\n",
              "      <td>M</td>\n",
              "      <td>3752</td>\n",
              "      <td>2021</td>\n",
              "    </tr>\n",
              "    <tr>\n",
              "      <th>17641</th>\n",
              "      <td>Carson</td>\n",
              "      <td>M</td>\n",
              "      <td>3751</td>\n",
              "      <td>2021</td>\n",
              "    </tr>\n",
              "    <tr>\n",
              "      <th>17642</th>\n",
              "      <td>Dominic</td>\n",
              "      <td>M</td>\n",
              "      <td>3727</td>\n",
              "      <td>2021</td>\n",
              "    </tr>\n",
              "    <tr>\n",
              "      <th>17643</th>\n",
              "      <td>Xavier</td>\n",
              "      <td>M</td>\n",
              "      <td>3707</td>\n",
              "      <td>2021</td>\n",
              "    </tr>\n",
              "  </tbody>\n",
              "</table>\n",
              "<p>28400 rows × 4 columns</p>\n",
              "</div>"
            ],
            "text/plain": [
              "                     name sex  no.of.births  year\n",
              "year sex                                         \n",
              "1880 F   0           Mary   F          7065  1880\n",
              "         1           Anna   F          2604  1880\n",
              "         2           Emma   F          2003  1880\n",
              "         3      Elizabeth   F          1939  1880\n",
              "         4         Minnie   F          1746  1880\n",
              "...                   ...  ..           ...   ...\n",
              "2021 M   17640     Connor   M          3752  2021\n",
              "         17639     Austin   M          3752  2021\n",
              "         17641     Carson   M          3751  2021\n",
              "         17642    Dominic   M          3727  2021\n",
              "         17643     Xavier   M          3707  2021\n",
              "\n",
              "[28400 rows x 4 columns]"
            ]
          },
          "execution_count": 7,
          "metadata": {},
          "output_type": "execute_result"
        }
      ],
      "source": [
        "# top 100 baby names sorted in ascending order\n",
        "top_100 = files_df.groupby(['year','sex']).apply(lambda i: i.sort_values('no.of.births',ascending=False)[:100])\n",
        "top_100"
      ]
    },
    {
      "cell_type": "markdown",
      "id": "a30e0478",
      "metadata": {
        "id": "a30e0478"
      },
      "source": [
        "### From the above data table it is clear that in the year 1880 - Mary is the most popular female baby name. Likewise in the year 2021 - Connor is the most popular male baby name. Results should be interpreted in a similar vein"
      ]
    },
    {
      "cell_type": "code",
      "execution_count": null,
      "id": "6e5f5ee9",
      "metadata": {
        "id": "6e5f5ee9",
        "outputId": "81267ec0-d833-4308-df68-1f2af2c50b0f"
      },
      "outputs": [
        {
          "data": {
            "text/plain": [
              "0           Mary\n",
              "1           Anna\n",
              "2           Emma\n",
              "3      Elizabeth\n",
              "4         Minnie\n",
              "         ...    \n",
              "852       Athena\n",
              "853       Waylon\n",
              "854      Bennett\n",
              "855         Beau\n",
              "856       Weston\n",
              "Length: 857, dtype: object"
            ]
          },
          "execution_count": 10,
          "metadata": {},
          "output_type": "execute_result"
        }
      ],
      "source": [
        "# create a set of unique names present in top 100 list\n",
        "names_group = pd.Series(top_100.name.unique())\n",
        "names_group"
      ]
    },
    {
      "cell_type": "code",
      "execution_count": null,
      "id": "62047c88",
      "metadata": {
        "id": "62047c88",
        "outputId": "1d4d32b7-faa5-4087-dc1d-a99847f2be8d"
      },
      "outputs": [
        {
          "name": "stdout",
          "output_type": "stream",
          "text": [
            "Names starting with letter 'S': \n",
            " 9          Sarah\n",
            "59        Stella\n",
            "63        Sallie\n",
            "68         Susie\n",
            "73         Sadie\n",
            "79         Susan\n",
            "116       Samuel\n",
            "135          Sam\n",
            "183      Stephen\n",
            "194       Sidney\n",
            "231      Stanley\n",
            "271       Sylvia\n",
            "287       Sophie\n",
            "297      Shirley\n",
            "339        Sally\n",
            "355       Sandra\n",
            "360       Sharon\n",
            "376          Sue\n",
            "379      Suzanne\n",
            "382       Steven\n",
            "384       Sheila\n",
            "392        Steve\n",
            "395       Sherry\n",
            "419        Scott\n",
            "466    Stephanie\n",
            "474       Sherri\n",
            "484        Shawn\n",
            "485       Stacey\n",
            "487       Shelly\n",
            "490         Sean\n",
            "492        Stacy\n",
            "501      Shannon\n",
            "514        Shane\n",
            "548         Sara\n",
            "564     Samantha\n",
            "569      Sabrina\n",
            "577        Shaun\n",
            "592         Seth\n",
            "610       Sheena\n",
            "652       Shelby\n",
            "666      Spencer\n",
            "668       Sierra\n",
            "669     Savannah\n",
            "673       Sydney\n",
            "680       Selena\n",
            "690       Sophia\n",
            "715    Sebastian\n",
            "739        Sofia\n",
            "777     Serenity\n",
            "785     Scarlett\n",
            "793       Skylar\n",
            "817       Sawyer\n",
            "834     Santiago\n",
            "851        Silas\n",
            "dtype: object\n"
          ]
        }
      ],
      "source": [
        "# find out the count of names starting with a specific alphabet\n",
        "print(\"Names starting with letter 'S': \\n {}\".format(names_group[names_group.str.upper().str.startswith('S')]))"
      ]
    },
    {
      "cell_type": "code",
      "execution_count": null,
      "id": "303f853a",
      "metadata": {
        "id": "303f853a",
        "outputId": "30340ad1-d500-4e42-8acc-c76b154bfff2"
      },
      "outputs": [
        {
          "name": "stdout",
          "output_type": "stream",
          "text": [
            "Names starting with letter 'A': \n",
            " 1         Anna\n",
            "7        Alice\n",
            "10       Annie\n",
            "32         Ada\n",
            "53       Agnes\n",
            "        ...   \n",
            "813     Aurora\n",
            "819    Adeline\n",
            "841       Axel\n",
            "843       Arya\n",
            "852     Athena\n",
            "Length: 75, dtype: object\n"
          ]
        }
      ],
      "source": [
        "print(\"Names starting with letter 'A': \\n {}\".format(names_group[names_group.str.upper().str.startswith('A')]))"
      ]
    },
    {
      "cell_type": "code",
      "execution_count": null,
      "id": "85c05642",
      "metadata": {
        "id": "85c05642",
        "outputId": "c9fa1df0-a287-4622-b2b5-4a2e196b0741"
      },
      "outputs": [
        {
          "name": "stderr",
          "output_type": "stream",
          "text": [
            "C:\\Users\\dell\\AppData\\Local\\Temp\\ipykernel_11172\\1198913816.py:2: UserWarning: Boolean Series key will be reindexed to match DataFrame index.\n",
            "  print(\"Top 100 Female names in 1991: \\n {}\".format(top_100.loc[['1991']][top_100.sex == 'F']))\n"
          ]
        },
        {
          "name": "stdout",
          "output_type": "stream",
          "text": [
            "Top 100 Female names in 1991: \n",
            "                   name sex  no.of.births  year\n",
            "year sex                                      \n",
            "1991 F   0      Ashley   F         43481  1991\n",
            "         1     Jessica   F         43398  1991\n",
            "         2    Brittany   F         29091  1991\n",
            "         3      Amanda   F         28893  1991\n",
            "         4    Samantha   F         25647  1991\n",
            "...                ...  ..           ...   ...\n",
            "         95    Melanie   F          3580  1991\n",
            "         96  Gabrielle   F          3578  1991\n",
            "         97      Julie   F          3570  1991\n",
            "         98    Kaitlin   F          3486  1991\n",
            "         99   Veronica   F          3441  1991\n",
            "\n",
            "[100 rows x 4 columns]\n"
          ]
        }
      ],
      "source": [
        "# top 100 Female namme in 1991\n",
        "print(\"Top 100 Female names in 1991: \\n {}\".format(top_100.loc[['1991']][top_100.sex == 'F']))"
      ]
    },
    {
      "cell_type": "markdown",
      "id": "b15b40d8",
      "metadata": {
        "id": "b15b40d8"
      },
      "source": [
        "### In a similar vein any no of popular trends or detailed analysis can be figured out from the baby names database"
      ]
    },
    {
      "cell_type": "code",
      "execution_count": null,
      "id": "b577a712",
      "metadata": {
        "id": "b577a712"
      },
      "outputs": [],
      "source": []
    }
  ],
  "metadata": {
    "kernelspec": {
      "display_name": "Python 3 (ipykernel)",
      "language": "python",
      "name": "python3"
    },
    "language_info": {
      "codemirror_mode": {
        "name": "ipython",
        "version": 3
      },
      "file_extension": ".py",
      "mimetype": "text/x-python",
      "name": "python",
      "nbconvert_exporter": "python",
      "pygments_lexer": "ipython3",
      "version": "3.9.12"
    },
    "colab": {
      "provenance": [],
      "include_colab_link": true
    }
  },
  "nbformat": 4,
  "nbformat_minor": 5
}