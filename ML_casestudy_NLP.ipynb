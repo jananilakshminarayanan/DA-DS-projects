{
  "cells": [
    {
      "cell_type": "markdown",
      "metadata": {
        "id": "view-in-github",
        "colab_type": "text"
      },
      "source": [
        "<a href=\"https://colab.research.google.com/github/jananilakshminarayanan/DA-DS-projects/blob/main/ML_casestudy_NLP.ipynb\" target=\"_parent\"><img src=\"https://colab.research.google.com/assets/colab-badge.svg\" alt=\"Open In Colab\"/></a>"
      ]
    },
    {
      "cell_type": "code",
      "execution_count": null,
      "id": "a7eed17a",
      "metadata": {
        "id": "a7eed17a",
        "outputId": "edced65c-8722-4d6e-af5e-e5cae61a2374"
      },
      "outputs": [
        {
          "name": "stderr",
          "output_type": "stream",
          "text": [
            "[nltk_data] Downloading package stopwords to\n",
            "[nltk_data]     C:\\Users\\dell\\AppData\\Roaming\\nltk_data...\n",
            "[nltk_data]   Package stopwords is already up-to-date!\n",
            "[nltk_data] Downloading package punkt to\n",
            "[nltk_data]     C:\\Users\\dell\\AppData\\Roaming\\nltk_data...\n",
            "[nltk_data]   Package punkt is already up-to-date!\n"
          ]
        }
      ],
      "source": [
        "import nltk\n",
        "from nltk.tokenize import word_tokenize\n",
        "nltk.download('stopwords')\n",
        "nltk.download('punkt')\n",
        "import numpy as np\n",
        "\n",
        "stop_words = set(stopwords.words(\"english\")) # to get distinct unique words only from stopwords\n"
      ]
    },
    {
      "cell_type": "code",
      "execution_count": null,
      "id": "ab013a06",
      "metadata": {
        "id": "ab013a06"
      },
      "outputs": [],
      "source": [
        "# function which returns all words present in a sentence by first removing stopwords and making all to lower cases\n",
        "# returns list of text words\n",
        "def extract_words(sentence):\n",
        "    cleaned_text = [w.lower() for w in nltk.word_tokenize(sentence) if w not in stop_words ]\n",
        "    return cleaned_text\n"
      ]
    },
    {
      "cell_type": "code",
      "execution_count": null,
      "id": "340431d4",
      "metadata": {
        "id": "340431d4"
      },
      "outputs": [],
      "source": [
        "# function which takes a list of sentences as argument and return a list of unique words present in that\n",
        "def vocab(corpus):\n",
        "    vocabulary = []\n",
        "\n",
        "    # list of words in the corpus\n",
        "    for doc in corpus:\n",
        "        word = extract_words(doc)\n",
        "        vocabulary.extend(word)\n",
        "\n",
        "    # find unique words in vocabulary list and sort them alphabetically\n",
        "    vocabulary = sorted(list(set(vocabulary)))\n",
        "    return vocabulary\n",
        ""
      ]
    },
    {
      "cell_type": "code",
      "execution_count": null,
      "id": "676e7063",
      "metadata": {
        "id": "676e7063"
      },
      "outputs": [],
      "source": [
        "# function which creates a bag of words model which returns word count vector for any input sentence\n",
        "def bag_of_words(sentence, vocabulary):\n",
        "\n",
        "    words = extract_words(sentence)\n",
        "\n",
        "    # creates a numpy array the length of no of words in vocabulary and fill it with zeros\n",
        "    bag = np.zeros(len(vocabulary))\n",
        "\n",
        "    for word in words:\n",
        "        # check whether word is present in vocabulary list\n",
        "        for i, vocab in enumerate(vocabulary):\n",
        "            if vocab == word:\n",
        "                bag[i] += 1 # if word is present in vocabulary change 0 to 1\n",
        "\n",
        "    return np.array(bag) # converting enumerate obj to np array"
      ]
    },
    {
      "cell_type": "code",
      "execution_count": null,
      "id": "a73ffb87",
      "metadata": {
        "id": "a73ffb87"
      },
      "outputs": [],
      "source": [
        "corpus = [\"Once, there was a boy who became bored when he watched over the village sheep grazing on the hillside.\",\n",
        "          \"To entertain himself, he sang out Wolf Wolf! The wolf is chasing the sheep! \",\n",
        "          \"When the villagers heard the cry, they came running up the hill to drive the wolf away.\",\n",
        "          \"But, when they arrived, they saw no wolf.\", \"The boy was amused when seeing their angry faces.\"]"
      ]
    },
    {
      "cell_type": "code",
      "execution_count": null,
      "id": "812e5ce3",
      "metadata": {
        "id": "812e5ce3",
        "outputId": "e30e8e1c-9ccb-4048-d14a-7e8ea13aac5b"
      },
      "outputs": [
        {
          "name": "stdout",
          "output_type": "stream",
          "text": [
            "Vocabulary: \n",
            " ['!', ',', '.', 'amused', 'angry', 'arrived', 'away', 'became', 'bored', 'boy', 'but', 'came', 'chasing', 'cry', 'drive', 'entertain', 'faces', 'grazing', 'heard', 'hill', 'hillside', 'once', 'running', 'sang', 'saw', 'seeing', 'sheep', 'the', 'to', 'village', 'villagers', 'watched', 'when', 'wolf']\n"
          ]
        }
      ],
      "source": [
        "vocabulary = vocab(corpus)\n",
        "print(\"Vocabulary: \\n\", vocabulary)"
      ]
    },
    {
      "cell_type": "code",
      "execution_count": null,
      "id": "9ab3ac42",
      "metadata": {
        "id": "9ab3ac42",
        "outputId": "f3085188-eaa9-42e5-99a7-7ff3c213f2ba"
      },
      "outputs": [
        {
          "data": {
            "text/plain": [
              "array([0., 0., 0., 1., 0., 0., 1., 0., 0., 0., 0., 0., 1., 0., 0., 0., 0.,\n",
              "       0., 0., 0., 0., 0., 0., 0., 0., 0., 0., 0., 0., 0., 1., 1., 0., 0.])"
            ]
          },
          "execution_count": 23,
          "metadata": {},
          "output_type": "execute_result"
        }
      ],
      "source": [
        "bag_of_words(\"video showing villagers chasing away wild elephants have amused many who watched it \", vocabulary)"
      ]
    },
    {
      "cell_type": "code",
      "execution_count": null,
      "id": "a46584f8",
      "metadata": {
        "id": "a46584f8"
      },
      "outputs": [],
      "source": [
        "# bag of words using scikit library\n",
        "import numpy as np\n",
        "from sklearn.feature_extraction.text import CountVectorizer\n",
        "import pandas as pd"
      ]
    },
    {
      "cell_type": "code",
      "execution_count": null,
      "id": "5d257717",
      "metadata": {
        "id": "5d257717"
      },
      "outputs": [],
      "source": [
        "text_data = np.array([\"Once, there was a boy who became bored when he watched over the village sheep grazing on the hillside.\",\n",
        "          \"To entertain himself, he sang out Wolf Wolf! The wolf is chasing the sheep! \",\n",
        "          \"When the villagers heard the cry, they came running up the hill to drive the wolf away.\",\n",
        "          \"But, when they arrived, they saw no wolf.\", \"The boy was amused when seeing their angry faces.\"])"
      ]
    },
    {
      "cell_type": "code",
      "execution_count": null,
      "id": "f76dedfd",
      "metadata": {
        "id": "f76dedfd",
        "outputId": "bc0c2467-828e-47a4-a639-108f52e96fb6"
      },
      "outputs": [
        {
          "data": {
            "text/plain": [
              "array([[0, 0, 0, 0, 1, 1, 1, 0, 0, 0, 0, 0, 0, 0, 1, 1, 0, 0, 1, 0, 0, 0,\n",
              "        1, 1, 0, 1, 0, 0, 0, 0, 1, 2, 0, 1, 0, 0, 0, 1, 0, 1, 1, 1, 1, 0],\n",
              "       [0, 0, 0, 0, 0, 0, 0, 0, 0, 1, 0, 0, 1, 0, 0, 1, 0, 0, 0, 1, 1, 0,\n",
              "        0, 0, 1, 0, 0, 1, 0, 0, 1, 2, 0, 0, 0, 1, 0, 0, 0, 0, 0, 0, 0, 3],\n",
              "       [0, 0, 0, 1, 0, 0, 0, 0, 1, 0, 1, 1, 0, 0, 0, 0, 1, 1, 0, 0, 0, 0,\n",
              "        0, 0, 0, 0, 1, 0, 0, 0, 0, 4, 0, 0, 1, 1, 1, 0, 1, 0, 0, 1, 0, 1],\n",
              "       [0, 0, 1, 0, 0, 0, 0, 1, 0, 0, 0, 0, 0, 0, 0, 0, 0, 0, 0, 0, 0, 1,\n",
              "        0, 0, 0, 0, 0, 0, 1, 0, 0, 0, 0, 0, 2, 0, 0, 0, 0, 0, 0, 1, 0, 1],\n",
              "       [1, 1, 0, 0, 0, 0, 1, 0, 0, 0, 0, 0, 0, 1, 0, 0, 0, 0, 0, 0, 0, 0,\n",
              "        0, 0, 0, 0, 0, 0, 0, 1, 0, 1, 1, 0, 0, 0, 0, 0, 0, 1, 0, 1, 0, 0]],\n",
              "      dtype=int64)"
            ]
          },
          "execution_count": 28,
          "metadata": {},
          "output_type": "execute_result"
        }
      ],
      "source": [
        "count = CountVectorizer()\n",
        "\n",
        "bag_of_words = count.fit_transform(text_data)\n",
        "\n",
        "# show feature mmatrix\n",
        "bag_of_words.toarray()"
      ]
    },
    {
      "cell_type": "code",
      "execution_count": null,
      "id": "61bf218f",
      "metadata": {
        "id": "61bf218f",
        "outputId": "4b6e8058-cba9-493c-b820-3b3f11f2c55e"
      },
      "outputs": [
        {
          "name": "stderr",
          "output_type": "stream",
          "text": [
            "C:\\Users\\dell\\anaconda3\\lib\\site-packages\\sklearn\\utils\\deprecation.py:87: FutureWarning: Function get_feature_names is deprecated; get_feature_names is deprecated in 1.0 and will be removed in 1.2. Please use get_feature_names_out instead.\n",
            "  warnings.warn(msg, category=FutureWarning)\n"
          ]
        },
        {
          "data": {
            "text/plain": [
              "['amused',\n",
              " 'angry',\n",
              " 'arrived',\n",
              " 'away',\n",
              " 'became',\n",
              " 'bored',\n",
              " 'boy',\n",
              " 'but',\n",
              " 'came',\n",
              " 'chasing',\n",
              " 'cry',\n",
              " 'drive',\n",
              " 'entertain',\n",
              " 'faces',\n",
              " 'grazing',\n",
              " 'he',\n",
              " 'heard',\n",
              " 'hill',\n",
              " 'hillside',\n",
              " 'himself',\n",
              " 'is',\n",
              " 'no',\n",
              " 'on',\n",
              " 'once',\n",
              " 'out',\n",
              " 'over',\n",
              " 'running',\n",
              " 'sang',\n",
              " 'saw',\n",
              " 'seeing',\n",
              " 'sheep',\n",
              " 'the',\n",
              " 'their',\n",
              " 'there',\n",
              " 'they',\n",
              " 'to',\n",
              " 'up',\n",
              " 'village',\n",
              " 'villagers',\n",
              " 'was',\n",
              " 'watched',\n",
              " 'when',\n",
              " 'who',\n",
              " 'wolf']"
            ]
          },
          "execution_count": 29,
          "metadata": {},
          "output_type": "execute_result"
        }
      ],
      "source": [
        "# get feature names\n",
        "feature_names = count.get_feature_names()\n",
        "\n",
        "feature_names"
      ]
    },
    {
      "cell_type": "code",
      "execution_count": null,
      "id": "86542db6",
      "metadata": {
        "id": "86542db6",
        "outputId": "a3c536d2-e107-4ad4-8eb0-dc7dc6d70c74"
      },
      "outputs": [
        {
          "data": {
            "text/html": [
              "<div>\n",
              "<style scoped>\n",
              "    .dataframe tbody tr th:only-of-type {\n",
              "        vertical-align: middle;\n",
              "    }\n",
              "\n",
              "    .dataframe tbody tr th {\n",
              "        vertical-align: top;\n",
              "    }\n",
              "\n",
              "    .dataframe thead th {\n",
              "        text-align: right;\n",
              "    }\n",
              "</style>\n",
              "<table border=\"1\" class=\"dataframe\">\n",
              "  <thead>\n",
              "    <tr style=\"text-align: right;\">\n",
              "      <th></th>\n",
              "      <th>amused</th>\n",
              "      <th>angry</th>\n",
              "      <th>arrived</th>\n",
              "      <th>away</th>\n",
              "      <th>became</th>\n",
              "      <th>bored</th>\n",
              "      <th>boy</th>\n",
              "      <th>but</th>\n",
              "      <th>came</th>\n",
              "      <th>chasing</th>\n",
              "      <th>...</th>\n",
              "      <th>they</th>\n",
              "      <th>to</th>\n",
              "      <th>up</th>\n",
              "      <th>village</th>\n",
              "      <th>villagers</th>\n",
              "      <th>was</th>\n",
              "      <th>watched</th>\n",
              "      <th>when</th>\n",
              "      <th>who</th>\n",
              "      <th>wolf</th>\n",
              "    </tr>\n",
              "  </thead>\n",
              "  <tbody>\n",
              "    <tr>\n",
              "      <th>0</th>\n",
              "      <td>0</td>\n",
              "      <td>0</td>\n",
              "      <td>0</td>\n",
              "      <td>0</td>\n",
              "      <td>1</td>\n",
              "      <td>1</td>\n",
              "      <td>1</td>\n",
              "      <td>0</td>\n",
              "      <td>0</td>\n",
              "      <td>0</td>\n",
              "      <td>...</td>\n",
              "      <td>0</td>\n",
              "      <td>0</td>\n",
              "      <td>0</td>\n",
              "      <td>1</td>\n",
              "      <td>0</td>\n",
              "      <td>1</td>\n",
              "      <td>1</td>\n",
              "      <td>1</td>\n",
              "      <td>1</td>\n",
              "      <td>0</td>\n",
              "    </tr>\n",
              "    <tr>\n",
              "      <th>1</th>\n",
              "      <td>0</td>\n",
              "      <td>0</td>\n",
              "      <td>0</td>\n",
              "      <td>0</td>\n",
              "      <td>0</td>\n",
              "      <td>0</td>\n",
              "      <td>0</td>\n",
              "      <td>0</td>\n",
              "      <td>0</td>\n",
              "      <td>1</td>\n",
              "      <td>...</td>\n",
              "      <td>0</td>\n",
              "      <td>1</td>\n",
              "      <td>0</td>\n",
              "      <td>0</td>\n",
              "      <td>0</td>\n",
              "      <td>0</td>\n",
              "      <td>0</td>\n",
              "      <td>0</td>\n",
              "      <td>0</td>\n",
              "      <td>3</td>\n",
              "    </tr>\n",
              "    <tr>\n",
              "      <th>2</th>\n",
              "      <td>0</td>\n",
              "      <td>0</td>\n",
              "      <td>0</td>\n",
              "      <td>1</td>\n",
              "      <td>0</td>\n",
              "      <td>0</td>\n",
              "      <td>0</td>\n",
              "      <td>0</td>\n",
              "      <td>1</td>\n",
              "      <td>0</td>\n",
              "      <td>...</td>\n",
              "      <td>1</td>\n",
              "      <td>1</td>\n",
              "      <td>1</td>\n",
              "      <td>0</td>\n",
              "      <td>1</td>\n",
              "      <td>0</td>\n",
              "      <td>0</td>\n",
              "      <td>1</td>\n",
              "      <td>0</td>\n",
              "      <td>1</td>\n",
              "    </tr>\n",
              "    <tr>\n",
              "      <th>3</th>\n",
              "      <td>0</td>\n",
              "      <td>0</td>\n",
              "      <td>1</td>\n",
              "      <td>0</td>\n",
              "      <td>0</td>\n",
              "      <td>0</td>\n",
              "      <td>0</td>\n",
              "      <td>1</td>\n",
              "      <td>0</td>\n",
              "      <td>0</td>\n",
              "      <td>...</td>\n",
              "      <td>2</td>\n",
              "      <td>0</td>\n",
              "      <td>0</td>\n",
              "      <td>0</td>\n",
              "      <td>0</td>\n",
              "      <td>0</td>\n",
              "      <td>0</td>\n",
              "      <td>1</td>\n",
              "      <td>0</td>\n",
              "      <td>1</td>\n",
              "    </tr>\n",
              "    <tr>\n",
              "      <th>4</th>\n",
              "      <td>1</td>\n",
              "      <td>1</td>\n",
              "      <td>0</td>\n",
              "      <td>0</td>\n",
              "      <td>0</td>\n",
              "      <td>0</td>\n",
              "      <td>1</td>\n",
              "      <td>0</td>\n",
              "      <td>0</td>\n",
              "      <td>0</td>\n",
              "      <td>...</td>\n",
              "      <td>0</td>\n",
              "      <td>0</td>\n",
              "      <td>0</td>\n",
              "      <td>0</td>\n",
              "      <td>0</td>\n",
              "      <td>1</td>\n",
              "      <td>0</td>\n",
              "      <td>1</td>\n",
              "      <td>0</td>\n",
              "      <td>0</td>\n",
              "    </tr>\n",
              "  </tbody>\n",
              "</table>\n",
              "<p>5 rows × 44 columns</p>\n",
              "</div>"
            ],
            "text/plain": [
              "   amused  angry  arrived  away  became  bored  boy  but  came  chasing  ...  \\\n",
              "0       0      0        0     0       1      1    1    0     0        0  ...   \n",
              "1       0      0        0     0       0      0    0    0     0        1  ...   \n",
              "2       0      0        0     1       0      0    0    0     1        0  ...   \n",
              "3       0      0        1     0       0      0    0    1     0        0  ...   \n",
              "4       1      1        0     0       0      0    1    0     0        0  ...   \n",
              "\n",
              "   they  to  up  village  villagers  was  watched  when  who  wolf  \n",
              "0     0   0   0        1          0    1        1     1    1     0  \n",
              "1     0   1   0        0          0    0        0     0    0     3  \n",
              "2     1   1   1        0          1    0        0     1    0     1  \n",
              "3     2   0   0        0          0    0        0     1    0     1  \n",
              "4     0   0   0        0          0    1        0     1    0     0  \n",
              "\n",
              "[5 rows x 44 columns]"
            ]
          },
          "execution_count": 30,
          "metadata": {},
          "output_type": "execute_result"
        }
      ],
      "source": [
        "# represent as dataframe\n",
        "pd.DataFrame(bag_of_words.toarray(), columns=feature_names)"
      ]
    },
    {
      "cell_type": "code",
      "execution_count": null,
      "id": "ff4651d7",
      "metadata": {
        "id": "ff4651d7"
      },
      "outputs": [],
      "source": [
        "from sklearn.feature_extraction.text import TfidfVectorizer"
      ]
    },
    {
      "cell_type": "code",
      "execution_count": null,
      "id": "239e1c57",
      "metadata": {
        "id": "239e1c57"
      },
      "outputs": [],
      "source": [
        "text_data = np.array([\"Once, there was a boy who became bored when he watched over the village sheep grazing on the hillside.\",\n",
        "          \"To entertain himself, he sang out Wolf Wolf! The wolf is chasing the sheep! \",\n",
        "          \"When the villagers heard the cry, they came running up the hill to drive the wolf away.\",\n",
        "          \"But, when they arrived, they saw no wolf.\", \"The boy was amused when seeing their angry faces.\"])"
      ]
    },
    {
      "cell_type": "code",
      "execution_count": null,
      "id": "210a5798",
      "metadata": {
        "id": "210a5798",
        "outputId": "c9dfece4-5c36-4d3a-aa7e-72d5bb56371b"
      },
      "outputs": [
        {
          "data": {
            "text/plain": [
              "array([[0.        , 0.        , 0.        , 0.        , 0.37007017,\n",
              "        0.37007017, 0.29857028, 0.        , 0.        , 0.        ,\n",
              "        0.        , 0.        , 0.        , 0.37007017, 0.        ,\n",
              "        0.        , 0.37007017, 0.        , 0.        , 0.        ,\n",
              "        0.        , 0.29857028, 0.37007017, 0.        , 0.37007017,\n",
              "        0.        ],\n",
              "       [0.        , 0.        , 0.        , 0.        , 0.        ,\n",
              "        0.        , 0.        , 0.        , 0.36066693, 0.        ,\n",
              "        0.        , 0.36066693, 0.        , 0.        , 0.        ,\n",
              "        0.        , 0.        , 0.        , 0.36066693, 0.        ,\n",
              "        0.        , 0.29098381, 0.        , 0.        , 0.        ,\n",
              "        0.72462854],\n",
              "       [0.        , 0.        , 0.        , 0.34404072, 0.        ,\n",
              "        0.        , 0.        , 0.34404072, 0.        , 0.34404072,\n",
              "        0.34404072, 0.        , 0.        , 0.        , 0.34404072,\n",
              "        0.34404072, 0.        , 0.34404072, 0.        , 0.        ,\n",
              "        0.        , 0.        , 0.        , 0.34404072, 0.        ,\n",
              "        0.23040808],\n",
              "       [0.        , 0.        , 0.63907044, 0.        , 0.        ,\n",
              "        0.        , 0.        , 0.        , 0.        , 0.        ,\n",
              "        0.        , 0.        , 0.        , 0.        , 0.        ,\n",
              "        0.        , 0.        , 0.        , 0.        , 0.63907044,\n",
              "        0.        , 0.        , 0.        , 0.        , 0.        ,\n",
              "        0.42799292],\n",
              "       [0.46369322, 0.46369322, 0.        , 0.        , 0.        ,\n",
              "        0.        , 0.37410477, 0.        , 0.        , 0.        ,\n",
              "        0.        , 0.        , 0.46369322, 0.        , 0.        ,\n",
              "        0.        , 0.        , 0.        , 0.        , 0.        ,\n",
              "        0.46369322, 0.        , 0.        , 0.        , 0.        ,\n",
              "        0.        ]])"
            ]
          },
          "execution_count": 47,
          "metadata": {},
          "output_type": "execute_result"
        }
      ],
      "source": [
        "tfid_vector = TfidfVectorizer(stop_words = stop_words)\n",
        "\n",
        "tfidvectors = tfid_vector.fit_transform(text_data)\n",
        "tfidvectors.toarray()"
      ]
    },
    {
      "cell_type": "code",
      "execution_count": null,
      "id": "1bbe7129",
      "metadata": {
        "id": "1bbe7129",
        "outputId": "0920659e-e451-4228-be15-c8e0e0c8f058"
      },
      "outputs": [
        {
          "name": "stderr",
          "output_type": "stream",
          "text": [
            "C:\\Users\\dell\\anaconda3\\lib\\site-packages\\sklearn\\utils\\deprecation.py:87: FutureWarning: Function get_feature_names is deprecated; get_feature_names is deprecated in 1.0 and will be removed in 1.2. Please use get_feature_names_out instead.\n",
            "  warnings.warn(msg, category=FutureWarning)\n"
          ]
        },
        {
          "data": {
            "text/plain": [
              "['amused',\n",
              " 'angry',\n",
              " 'arrived',\n",
              " 'away',\n",
              " 'became',\n",
              " 'bored',\n",
              " 'boy',\n",
              " 'came',\n",
              " 'chasing',\n",
              " 'cry',\n",
              " 'drive',\n",
              " 'entertain',\n",
              " 'faces',\n",
              " 'grazing',\n",
              " 'heard',\n",
              " 'hill',\n",
              " 'hillside',\n",
              " 'running',\n",
              " 'sang',\n",
              " 'saw',\n",
              " 'seeing',\n",
              " 'sheep',\n",
              " 'village',\n",
              " 'villagers',\n",
              " 'watched',\n",
              " 'wolf']"
            ]
          },
          "execution_count": 49,
          "metadata": {},
          "output_type": "execute_result"
        }
      ],
      "source": [
        "feature_names = tfid_vector.get_feature_names()\n",
        "feature_names"
      ]
    },
    {
      "cell_type": "code",
      "execution_count": null,
      "id": "537239f4",
      "metadata": {
        "id": "537239f4",
        "outputId": "7f90b4af-6989-43a1-98e0-9ee0b0252d73"
      },
      "outputs": [
        {
          "data": {
            "text/html": [
              "<div>\n",
              "<style scoped>\n",
              "    .dataframe tbody tr th:only-of-type {\n",
              "        vertical-align: middle;\n",
              "    }\n",
              "\n",
              "    .dataframe tbody tr th {\n",
              "        vertical-align: top;\n",
              "    }\n",
              "\n",
              "    .dataframe thead th {\n",
              "        text-align: right;\n",
              "    }\n",
              "</style>\n",
              "<table border=\"1\" class=\"dataframe\">\n",
              "  <thead>\n",
              "    <tr style=\"text-align: right;\">\n",
              "      <th></th>\n",
              "      <th>amused</th>\n",
              "      <th>angry</th>\n",
              "      <th>arrived</th>\n",
              "      <th>away</th>\n",
              "      <th>became</th>\n",
              "      <th>bored</th>\n",
              "      <th>boy</th>\n",
              "      <th>came</th>\n",
              "      <th>chasing</th>\n",
              "      <th>cry</th>\n",
              "      <th>...</th>\n",
              "      <th>hillside</th>\n",
              "      <th>running</th>\n",
              "      <th>sang</th>\n",
              "      <th>saw</th>\n",
              "      <th>seeing</th>\n",
              "      <th>sheep</th>\n",
              "      <th>village</th>\n",
              "      <th>villagers</th>\n",
              "      <th>watched</th>\n",
              "      <th>wolf</th>\n",
              "    </tr>\n",
              "  </thead>\n",
              "  <tbody>\n",
              "    <tr>\n",
              "      <th>0</th>\n",
              "      <td>0.000000</td>\n",
              "      <td>0.000000</td>\n",
              "      <td>0.00000</td>\n",
              "      <td>0.000000</td>\n",
              "      <td>0.37007</td>\n",
              "      <td>0.37007</td>\n",
              "      <td>0.298570</td>\n",
              "      <td>0.000000</td>\n",
              "      <td>0.000000</td>\n",
              "      <td>0.000000</td>\n",
              "      <td>...</td>\n",
              "      <td>0.37007</td>\n",
              "      <td>0.000000</td>\n",
              "      <td>0.000000</td>\n",
              "      <td>0.00000</td>\n",
              "      <td>0.000000</td>\n",
              "      <td>0.298570</td>\n",
              "      <td>0.37007</td>\n",
              "      <td>0.000000</td>\n",
              "      <td>0.37007</td>\n",
              "      <td>0.000000</td>\n",
              "    </tr>\n",
              "    <tr>\n",
              "      <th>1</th>\n",
              "      <td>0.000000</td>\n",
              "      <td>0.000000</td>\n",
              "      <td>0.00000</td>\n",
              "      <td>0.000000</td>\n",
              "      <td>0.00000</td>\n",
              "      <td>0.00000</td>\n",
              "      <td>0.000000</td>\n",
              "      <td>0.000000</td>\n",
              "      <td>0.360667</td>\n",
              "      <td>0.000000</td>\n",
              "      <td>...</td>\n",
              "      <td>0.00000</td>\n",
              "      <td>0.000000</td>\n",
              "      <td>0.360667</td>\n",
              "      <td>0.00000</td>\n",
              "      <td>0.000000</td>\n",
              "      <td>0.290984</td>\n",
              "      <td>0.00000</td>\n",
              "      <td>0.000000</td>\n",
              "      <td>0.00000</td>\n",
              "      <td>0.724629</td>\n",
              "    </tr>\n",
              "    <tr>\n",
              "      <th>2</th>\n",
              "      <td>0.000000</td>\n",
              "      <td>0.000000</td>\n",
              "      <td>0.00000</td>\n",
              "      <td>0.344041</td>\n",
              "      <td>0.00000</td>\n",
              "      <td>0.00000</td>\n",
              "      <td>0.000000</td>\n",
              "      <td>0.344041</td>\n",
              "      <td>0.000000</td>\n",
              "      <td>0.344041</td>\n",
              "      <td>...</td>\n",
              "      <td>0.00000</td>\n",
              "      <td>0.344041</td>\n",
              "      <td>0.000000</td>\n",
              "      <td>0.00000</td>\n",
              "      <td>0.000000</td>\n",
              "      <td>0.000000</td>\n",
              "      <td>0.00000</td>\n",
              "      <td>0.344041</td>\n",
              "      <td>0.00000</td>\n",
              "      <td>0.230408</td>\n",
              "    </tr>\n",
              "    <tr>\n",
              "      <th>3</th>\n",
              "      <td>0.000000</td>\n",
              "      <td>0.000000</td>\n",
              "      <td>0.63907</td>\n",
              "      <td>0.000000</td>\n",
              "      <td>0.00000</td>\n",
              "      <td>0.00000</td>\n",
              "      <td>0.000000</td>\n",
              "      <td>0.000000</td>\n",
              "      <td>0.000000</td>\n",
              "      <td>0.000000</td>\n",
              "      <td>...</td>\n",
              "      <td>0.00000</td>\n",
              "      <td>0.000000</td>\n",
              "      <td>0.000000</td>\n",
              "      <td>0.63907</td>\n",
              "      <td>0.000000</td>\n",
              "      <td>0.000000</td>\n",
              "      <td>0.00000</td>\n",
              "      <td>0.000000</td>\n",
              "      <td>0.00000</td>\n",
              "      <td>0.427993</td>\n",
              "    </tr>\n",
              "    <tr>\n",
              "      <th>4</th>\n",
              "      <td>0.463693</td>\n",
              "      <td>0.463693</td>\n",
              "      <td>0.00000</td>\n",
              "      <td>0.000000</td>\n",
              "      <td>0.00000</td>\n",
              "      <td>0.00000</td>\n",
              "      <td>0.374105</td>\n",
              "      <td>0.000000</td>\n",
              "      <td>0.000000</td>\n",
              "      <td>0.000000</td>\n",
              "      <td>...</td>\n",
              "      <td>0.00000</td>\n",
              "      <td>0.000000</td>\n",
              "      <td>0.000000</td>\n",
              "      <td>0.00000</td>\n",
              "      <td>0.463693</td>\n",
              "      <td>0.000000</td>\n",
              "      <td>0.00000</td>\n",
              "      <td>0.000000</td>\n",
              "      <td>0.00000</td>\n",
              "      <td>0.000000</td>\n",
              "    </tr>\n",
              "  </tbody>\n",
              "</table>\n",
              "<p>5 rows × 26 columns</p>\n",
              "</div>"
            ],
            "text/plain": [
              "     amused     angry  arrived      away   became    bored       boy  \\\n",
              "0  0.000000  0.000000  0.00000  0.000000  0.37007  0.37007  0.298570   \n",
              "1  0.000000  0.000000  0.00000  0.000000  0.00000  0.00000  0.000000   \n",
              "2  0.000000  0.000000  0.00000  0.344041  0.00000  0.00000  0.000000   \n",
              "3  0.000000  0.000000  0.63907  0.000000  0.00000  0.00000  0.000000   \n",
              "4  0.463693  0.463693  0.00000  0.000000  0.00000  0.00000  0.374105   \n",
              "\n",
              "       came   chasing       cry  ...  hillside   running      sang      saw  \\\n",
              "0  0.000000  0.000000  0.000000  ...   0.37007  0.000000  0.000000  0.00000   \n",
              "1  0.000000  0.360667  0.000000  ...   0.00000  0.000000  0.360667  0.00000   \n",
              "2  0.344041  0.000000  0.344041  ...   0.00000  0.344041  0.000000  0.00000   \n",
              "3  0.000000  0.000000  0.000000  ...   0.00000  0.000000  0.000000  0.63907   \n",
              "4  0.000000  0.000000  0.000000  ...   0.00000  0.000000  0.000000  0.00000   \n",
              "\n",
              "     seeing     sheep  village  villagers  watched      wolf  \n",
              "0  0.000000  0.298570  0.37007   0.000000  0.37007  0.000000  \n",
              "1  0.000000  0.290984  0.00000   0.000000  0.00000  0.724629  \n",
              "2  0.000000  0.000000  0.00000   0.344041  0.00000  0.230408  \n",
              "3  0.000000  0.000000  0.00000   0.000000  0.00000  0.427993  \n",
              "4  0.463693  0.000000  0.00000   0.000000  0.00000  0.000000  \n",
              "\n",
              "[5 rows x 26 columns]"
            ]
          },
          "execution_count": 50,
          "metadata": {},
          "output_type": "execute_result"
        }
      ],
      "source": [
        "pd.DataFrame(tfidvectors.toarray(), columns=feature_names)"
      ]
    },
    {
      "cell_type": "code",
      "execution_count": null,
      "id": "0e097abb",
      "metadata": {
        "id": "0e097abb"
      },
      "outputs": [],
      "source": []
    }
  ],
  "metadata": {
    "kernelspec": {
      "display_name": "Python 3 (ipykernel)",
      "language": "python",
      "name": "python3"
    },
    "language_info": {
      "codemirror_mode": {
        "name": "ipython",
        "version": 3
      },
      "file_extension": ".py",
      "mimetype": "text/x-python",
      "name": "python",
      "nbconvert_exporter": "python",
      "pygments_lexer": "ipython3",
      "version": "3.9.12"
    },
    "colab": {
      "provenance": [],
      "include_colab_link": true
    }
  },
  "nbformat": 4,
  "nbformat_minor": 5
}