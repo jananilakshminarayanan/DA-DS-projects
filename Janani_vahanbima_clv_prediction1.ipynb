{
  "cells": [
    {
      "cell_type": "markdown",
      "metadata": {
        "id": "view-in-github",
        "colab_type": "text"
      },
      "source": [
        "<a href=\"https://colab.research.google.com/github/jananilakshminarayanan/DA-DS-projects/blob/main/Janani_vahanbima_clv_prediction1.ipynb\" target=\"_parent\"><img src=\"https://colab.research.google.com/assets/colab-badge.svg\" alt=\"Open In Colab\"/></a>"
      ]
    },
    {
      "cell_type": "markdown",
      "id": "cf481e37",
      "metadata": {
        "id": "cf481e37"
      },
      "source": [
        "## Analytics Vidhya - January 2023 - JOB-A-THON\n",
        "### VahanBima - ML Model to predict CLTV of customers\n",
        "\n",
        "**Project Aim:** To find Customer Lifetime value of an Insurance company customers, so that they can be prioritized accordingly.\n",
        "\n",
        "**Solution Approach:**  Since the target/output variable CLTV is clearly a continous numeric variable regression model is applied on the dataset.\n",
        " Feature Selection done using Pearson’s Correlation Coefficient: f_regression() as the output variable is numeric and most of the meaningful input variables were also numeric. Inorder to aid feature selection methods all categorical data has been transformed to numeric data.\tTried out numerous regression models such as XgBoost, Linear regressor, Decision tree regressor and k-means regressor to test the model performance in R2 _score metric. Since the LinearRegressor model gave the maximum performance metric of R2_score chose the model and predicted Customer LifeTime Value using the said model . Stored the customer id and cltv value in a separate csv file called final_submission.\n"
      ]
    },
    {
      "cell_type": "markdown",
      "id": "e5e124ae",
      "metadata": {
        "id": "e5e124ae"
      },
      "source": [
        "### Explorative Data Analysis"
      ]
    },
    {
      "cell_type": "code",
      "execution_count": null,
      "id": "8e738357",
      "metadata": {
        "id": "8e738357"
      },
      "outputs": [],
      "source": [
        "# import required libraries\n",
        "import numpy as np\n",
        "import pandas as pd\n",
        "import seaborn as sns\n",
        "import matplotlib.pyplot as plt\n",
        "%matplotlib inline"
      ]
    },
    {
      "cell_type": "code",
      "execution_count": null,
      "id": "d8fa8af0",
      "metadata": {
        "id": "d8fa8af0"
      },
      "outputs": [],
      "source": [
        "# load train and test datasets\n",
        "train = pd.read_csv(\"train_BRCpofr.csv\")\n",
        "test = pd.read_csv(\"test_koRSKBP.csv\")"
      ]
    },
    {
      "cell_type": "code",
      "execution_count": null,
      "id": "dc1af101",
      "metadata": {
        "id": "dc1af101",
        "outputId": "0816f8af-c3f3-4484-cc98-683f92516b2b"
      },
      "outputs": [
        {
          "data": {
            "text/html": [
              "<div>\n",
              "<style scoped>\n",
              "    .dataframe tbody tr th:only-of-type {\n",
              "        vertical-align: middle;\n",
              "    }\n",
              "\n",
              "    .dataframe tbody tr th {\n",
              "        vertical-align: top;\n",
              "    }\n",
              "\n",
              "    .dataframe thead th {\n",
              "        text-align: right;\n",
              "    }\n",
              "</style>\n",
              "<table border=\"1\" class=\"dataframe\">\n",
              "  <thead>\n",
              "    <tr style=\"text-align: right;\">\n",
              "      <th></th>\n",
              "      <th>id</th>\n",
              "      <th>gender</th>\n",
              "      <th>area</th>\n",
              "      <th>qualification</th>\n",
              "      <th>income</th>\n",
              "      <th>marital_status</th>\n",
              "      <th>vintage</th>\n",
              "      <th>claim_amount</th>\n",
              "      <th>num_policies</th>\n",
              "      <th>policy</th>\n",
              "      <th>type_of_policy</th>\n",
              "      <th>cltv</th>\n",
              "    </tr>\n",
              "  </thead>\n",
              "  <tbody>\n",
              "    <tr>\n",
              "      <th>0</th>\n",
              "      <td>1</td>\n",
              "      <td>Male</td>\n",
              "      <td>Urban</td>\n",
              "      <td>Bachelor</td>\n",
              "      <td>5L-10L</td>\n",
              "      <td>1</td>\n",
              "      <td>5</td>\n",
              "      <td>5790</td>\n",
              "      <td>More than 1</td>\n",
              "      <td>A</td>\n",
              "      <td>Platinum</td>\n",
              "      <td>64308</td>\n",
              "    </tr>\n",
              "    <tr>\n",
              "      <th>1</th>\n",
              "      <td>2</td>\n",
              "      <td>Male</td>\n",
              "      <td>Rural</td>\n",
              "      <td>High School</td>\n",
              "      <td>5L-10L</td>\n",
              "      <td>0</td>\n",
              "      <td>8</td>\n",
              "      <td>5080</td>\n",
              "      <td>More than 1</td>\n",
              "      <td>A</td>\n",
              "      <td>Platinum</td>\n",
              "      <td>515400</td>\n",
              "    </tr>\n",
              "    <tr>\n",
              "      <th>2</th>\n",
              "      <td>3</td>\n",
              "      <td>Male</td>\n",
              "      <td>Urban</td>\n",
              "      <td>Bachelor</td>\n",
              "      <td>5L-10L</td>\n",
              "      <td>1</td>\n",
              "      <td>8</td>\n",
              "      <td>2599</td>\n",
              "      <td>More than 1</td>\n",
              "      <td>A</td>\n",
              "      <td>Platinum</td>\n",
              "      <td>64212</td>\n",
              "    </tr>\n",
              "    <tr>\n",
              "      <th>3</th>\n",
              "      <td>4</td>\n",
              "      <td>Female</td>\n",
              "      <td>Rural</td>\n",
              "      <td>High School</td>\n",
              "      <td>5L-10L</td>\n",
              "      <td>0</td>\n",
              "      <td>7</td>\n",
              "      <td>0</td>\n",
              "      <td>More than 1</td>\n",
              "      <td>A</td>\n",
              "      <td>Platinum</td>\n",
              "      <td>97920</td>\n",
              "    </tr>\n",
              "    <tr>\n",
              "      <th>4</th>\n",
              "      <td>5</td>\n",
              "      <td>Male</td>\n",
              "      <td>Urban</td>\n",
              "      <td>High School</td>\n",
              "      <td>More than 10L</td>\n",
              "      <td>1</td>\n",
              "      <td>6</td>\n",
              "      <td>3508</td>\n",
              "      <td>More than 1</td>\n",
              "      <td>A</td>\n",
              "      <td>Gold</td>\n",
              "      <td>59736</td>\n",
              "    </tr>\n",
              "    <tr>\n",
              "      <th>5</th>\n",
              "      <td>6</td>\n",
              "      <td>Male</td>\n",
              "      <td>Rural</td>\n",
              "      <td>High School</td>\n",
              "      <td>More than 10L</td>\n",
              "      <td>1</td>\n",
              "      <td>1</td>\n",
              "      <td>0</td>\n",
              "      <td>1</td>\n",
              "      <td>C</td>\n",
              "      <td>Gold</td>\n",
              "      <td>348768</td>\n",
              "    </tr>\n",
              "    <tr>\n",
              "      <th>6</th>\n",
              "      <td>7</td>\n",
              "      <td>Female</td>\n",
              "      <td>Rural</td>\n",
              "      <td>Bachelor</td>\n",
              "      <td>5L-10L</td>\n",
              "      <td>1</td>\n",
              "      <td>6</td>\n",
              "      <td>0</td>\n",
              "      <td>More than 1</td>\n",
              "      <td>A</td>\n",
              "      <td>Gold</td>\n",
              "      <td>238920</td>\n",
              "    </tr>\n",
              "    <tr>\n",
              "      <th>7</th>\n",
              "      <td>8</td>\n",
              "      <td>Female</td>\n",
              "      <td>Urban</td>\n",
              "      <td>High School</td>\n",
              "      <td>5L-10L</td>\n",
              "      <td>0</td>\n",
              "      <td>0</td>\n",
              "      <td>5473</td>\n",
              "      <td>More than 1</td>\n",
              "      <td>A</td>\n",
              "      <td>Silver</td>\n",
              "      <td>64128</td>\n",
              "    </tr>\n",
              "    <tr>\n",
              "      <th>8</th>\n",
              "      <td>9</td>\n",
              "      <td>Female</td>\n",
              "      <td>Urban</td>\n",
              "      <td>High School</td>\n",
              "      <td>5L-10L</td>\n",
              "      <td>1</td>\n",
              "      <td>3</td>\n",
              "      <td>6105</td>\n",
              "      <td>More than 1</td>\n",
              "      <td>A</td>\n",
              "      <td>Gold</td>\n",
              "      <td>94536</td>\n",
              "    </tr>\n",
              "    <tr>\n",
              "      <th>9</th>\n",
              "      <td>10</td>\n",
              "      <td>Male</td>\n",
              "      <td>Rural</td>\n",
              "      <td>High School</td>\n",
              "      <td>More than 10L</td>\n",
              "      <td>1</td>\n",
              "      <td>6</td>\n",
              "      <td>0</td>\n",
              "      <td>More than 1</td>\n",
              "      <td>A</td>\n",
              "      <td>Platinum</td>\n",
              "      <td>99060</td>\n",
              "    </tr>\n",
              "  </tbody>\n",
              "</table>\n",
              "</div>"
            ],
            "text/plain": [
              "   id  gender   area qualification         income  marital_status  vintage  \\\n",
              "0   1    Male  Urban      Bachelor         5L-10L               1        5   \n",
              "1   2    Male  Rural   High School         5L-10L               0        8   \n",
              "2   3    Male  Urban      Bachelor         5L-10L               1        8   \n",
              "3   4  Female  Rural   High School         5L-10L               0        7   \n",
              "4   5    Male  Urban   High School  More than 10L               1        6   \n",
              "5   6    Male  Rural   High School  More than 10L               1        1   \n",
              "6   7  Female  Rural      Bachelor         5L-10L               1        6   \n",
              "7   8  Female  Urban   High School         5L-10L               0        0   \n",
              "8   9  Female  Urban   High School         5L-10L               1        3   \n",
              "9  10    Male  Rural   High School  More than 10L               1        6   \n",
              "\n",
              "   claim_amount num_policies policy type_of_policy    cltv  \n",
              "0          5790  More than 1      A       Platinum   64308  \n",
              "1          5080  More than 1      A       Platinum  515400  \n",
              "2          2599  More than 1      A       Platinum   64212  \n",
              "3             0  More than 1      A       Platinum   97920  \n",
              "4          3508  More than 1      A           Gold   59736  \n",
              "5             0            1      C           Gold  348768  \n",
              "6             0  More than 1      A           Gold  238920  \n",
              "7          5473  More than 1      A         Silver   64128  \n",
              "8          6105  More than 1      A           Gold   94536  \n",
              "9             0  More than 1      A       Platinum   99060  "
            ]
          },
          "execution_count": 3,
          "metadata": {},
          "output_type": "execute_result"
        }
      ],
      "source": [
        "# Show first 10 rows in train dataset\n",
        "train.head(10)"
      ]
    },
    {
      "cell_type": "code",
      "execution_count": null,
      "id": "4e6eb1ef",
      "metadata": {
        "id": "4e6eb1ef",
        "outputId": "9506ed53-fc78-471f-ee88-f8ce9d342990"
      },
      "outputs": [
        {
          "data": {
            "text/html": [
              "<div>\n",
              "<style scoped>\n",
              "    .dataframe tbody tr th:only-of-type {\n",
              "        vertical-align: middle;\n",
              "    }\n",
              "\n",
              "    .dataframe tbody tr th {\n",
              "        vertical-align: top;\n",
              "    }\n",
              "\n",
              "    .dataframe thead th {\n",
              "        text-align: right;\n",
              "    }\n",
              "</style>\n",
              "<table border=\"1\" class=\"dataframe\">\n",
              "  <thead>\n",
              "    <tr style=\"text-align: right;\">\n",
              "      <th></th>\n",
              "      <th>id</th>\n",
              "      <th>gender</th>\n",
              "      <th>area</th>\n",
              "      <th>qualification</th>\n",
              "      <th>income</th>\n",
              "      <th>marital_status</th>\n",
              "      <th>vintage</th>\n",
              "      <th>claim_amount</th>\n",
              "      <th>num_policies</th>\n",
              "      <th>policy</th>\n",
              "      <th>type_of_policy</th>\n",
              "    </tr>\n",
              "  </thead>\n",
              "  <tbody>\n",
              "    <tr>\n",
              "      <th>0</th>\n",
              "      <td>89393</td>\n",
              "      <td>Female</td>\n",
              "      <td>Rural</td>\n",
              "      <td>High School</td>\n",
              "      <td>5L-10L</td>\n",
              "      <td>0</td>\n",
              "      <td>6</td>\n",
              "      <td>2134</td>\n",
              "      <td>More than 1</td>\n",
              "      <td>B</td>\n",
              "      <td>Silver</td>\n",
              "    </tr>\n",
              "    <tr>\n",
              "      <th>1</th>\n",
              "      <td>89394</td>\n",
              "      <td>Female</td>\n",
              "      <td>Urban</td>\n",
              "      <td>High School</td>\n",
              "      <td>2L-5L</td>\n",
              "      <td>0</td>\n",
              "      <td>4</td>\n",
              "      <td>4102</td>\n",
              "      <td>More than 1</td>\n",
              "      <td>A</td>\n",
              "      <td>Platinum</td>\n",
              "    </tr>\n",
              "    <tr>\n",
              "      <th>2</th>\n",
              "      <td>89395</td>\n",
              "      <td>Male</td>\n",
              "      <td>Rural</td>\n",
              "      <td>High School</td>\n",
              "      <td>5L-10L</td>\n",
              "      <td>1</td>\n",
              "      <td>7</td>\n",
              "      <td>2925</td>\n",
              "      <td>More than 1</td>\n",
              "      <td>B</td>\n",
              "      <td>Gold</td>\n",
              "    </tr>\n",
              "    <tr>\n",
              "      <th>3</th>\n",
              "      <td>89396</td>\n",
              "      <td>Female</td>\n",
              "      <td>Rural</td>\n",
              "      <td>Bachelor</td>\n",
              "      <td>More than 10L</td>\n",
              "      <td>1</td>\n",
              "      <td>2</td>\n",
              "      <td>0</td>\n",
              "      <td>More than 1</td>\n",
              "      <td>B</td>\n",
              "      <td>Silver</td>\n",
              "    </tr>\n",
              "    <tr>\n",
              "      <th>4</th>\n",
              "      <td>89397</td>\n",
              "      <td>Female</td>\n",
              "      <td>Urban</td>\n",
              "      <td>High School</td>\n",
              "      <td>2L-5L</td>\n",
              "      <td>0</td>\n",
              "      <td>5</td>\n",
              "      <td>14059</td>\n",
              "      <td>More than 1</td>\n",
              "      <td>B</td>\n",
              "      <td>Silver</td>\n",
              "    </tr>\n",
              "    <tr>\n",
              "      <th>5</th>\n",
              "      <td>89398</td>\n",
              "      <td>Female</td>\n",
              "      <td>Rural</td>\n",
              "      <td>High School</td>\n",
              "      <td>2L-5L</td>\n",
              "      <td>1</td>\n",
              "      <td>6</td>\n",
              "      <td>3697</td>\n",
              "      <td>More than 1</td>\n",
              "      <td>A</td>\n",
              "      <td>Gold</td>\n",
              "    </tr>\n",
              "    <tr>\n",
              "      <th>6</th>\n",
              "      <td>89399</td>\n",
              "      <td>Male</td>\n",
              "      <td>Urban</td>\n",
              "      <td>Bachelor</td>\n",
              "      <td>5L-10L</td>\n",
              "      <td>0</td>\n",
              "      <td>6</td>\n",
              "      <td>0</td>\n",
              "      <td>1</td>\n",
              "      <td>A</td>\n",
              "      <td>Platinum</td>\n",
              "    </tr>\n",
              "    <tr>\n",
              "      <th>7</th>\n",
              "      <td>89400</td>\n",
              "      <td>Female</td>\n",
              "      <td>Urban</td>\n",
              "      <td>High School</td>\n",
              "      <td>2L-5L</td>\n",
              "      <td>0</td>\n",
              "      <td>2</td>\n",
              "      <td>0</td>\n",
              "      <td>More than 1</td>\n",
              "      <td>B</td>\n",
              "      <td>Gold</td>\n",
              "    </tr>\n",
              "    <tr>\n",
              "      <th>8</th>\n",
              "      <td>89401</td>\n",
              "      <td>Male</td>\n",
              "      <td>Rural</td>\n",
              "      <td>Bachelor</td>\n",
              "      <td>5L-10L</td>\n",
              "      <td>0</td>\n",
              "      <td>4</td>\n",
              "      <td>0</td>\n",
              "      <td>1</td>\n",
              "      <td>A</td>\n",
              "      <td>Silver</td>\n",
              "    </tr>\n",
              "    <tr>\n",
              "      <th>9</th>\n",
              "      <td>89402</td>\n",
              "      <td>Male</td>\n",
              "      <td>Urban</td>\n",
              "      <td>High School</td>\n",
              "      <td>2L-5L</td>\n",
              "      <td>0</td>\n",
              "      <td>6</td>\n",
              "      <td>5581</td>\n",
              "      <td>More than 1</td>\n",
              "      <td>C</td>\n",
              "      <td>Gold</td>\n",
              "    </tr>\n",
              "  </tbody>\n",
              "</table>\n",
              "</div>"
            ],
            "text/plain": [
              "      id  gender   area qualification         income  marital_status  vintage  \\\n",
              "0  89393  Female  Rural   High School         5L-10L               0        6   \n",
              "1  89394  Female  Urban   High School          2L-5L               0        4   \n",
              "2  89395    Male  Rural   High School         5L-10L               1        7   \n",
              "3  89396  Female  Rural      Bachelor  More than 10L               1        2   \n",
              "4  89397  Female  Urban   High School          2L-5L               0        5   \n",
              "5  89398  Female  Rural   High School          2L-5L               1        6   \n",
              "6  89399    Male  Urban      Bachelor         5L-10L               0        6   \n",
              "7  89400  Female  Urban   High School          2L-5L               0        2   \n",
              "8  89401    Male  Rural      Bachelor         5L-10L               0        4   \n",
              "9  89402    Male  Urban   High School          2L-5L               0        6   \n",
              "\n",
              "   claim_amount num_policies policy type_of_policy  \n",
              "0          2134  More than 1      B         Silver  \n",
              "1          4102  More than 1      A       Platinum  \n",
              "2          2925  More than 1      B           Gold  \n",
              "3             0  More than 1      B         Silver  \n",
              "4         14059  More than 1      B         Silver  \n",
              "5          3697  More than 1      A           Gold  \n",
              "6             0            1      A       Platinum  \n",
              "7             0  More than 1      B           Gold  \n",
              "8             0            1      A         Silver  \n",
              "9          5581  More than 1      C           Gold  "
            ]
          },
          "execution_count": 4,
          "metadata": {},
          "output_type": "execute_result"
        }
      ],
      "source": [
        "# Show first 10 rows in test dataset\n",
        "test.head(10)"
      ]
    },
    {
      "cell_type": "code",
      "execution_count": null,
      "id": "74b2a2d2",
      "metadata": {
        "id": "74b2a2d2",
        "outputId": "8c58a870-1462-42a2-f3c4-07f70bf291e9"
      },
      "outputs": [
        {
          "data": {
            "text/html": [
              "<div>\n",
              "<style scoped>\n",
              "    .dataframe tbody tr th:only-of-type {\n",
              "        vertical-align: middle;\n",
              "    }\n",
              "\n",
              "    .dataframe tbody tr th {\n",
              "        vertical-align: top;\n",
              "    }\n",
              "\n",
              "    .dataframe thead th {\n",
              "        text-align: right;\n",
              "    }\n",
              "</style>\n",
              "<table border=\"1\" class=\"dataframe\">\n",
              "  <thead>\n",
              "    <tr style=\"text-align: right;\">\n",
              "      <th></th>\n",
              "      <th>id</th>\n",
              "      <th>marital_status</th>\n",
              "      <th>vintage</th>\n",
              "      <th>claim_amount</th>\n",
              "      <th>cltv</th>\n",
              "    </tr>\n",
              "  </thead>\n",
              "  <tbody>\n",
              "    <tr>\n",
              "      <th>count</th>\n",
              "      <td>89392.000000</td>\n",
              "      <td>89392.000000</td>\n",
              "      <td>89392.000000</td>\n",
              "      <td>89392.000000</td>\n",
              "      <td>89392.000000</td>\n",
              "    </tr>\n",
              "    <tr>\n",
              "      <th>mean</th>\n",
              "      <td>44696.500000</td>\n",
              "      <td>0.575488</td>\n",
              "      <td>4.595669</td>\n",
              "      <td>4351.502416</td>\n",
              "      <td>97952.828978</td>\n",
              "    </tr>\n",
              "    <tr>\n",
              "      <th>std</th>\n",
              "      <td>25805.391969</td>\n",
              "      <td>0.494272</td>\n",
              "      <td>2.290446</td>\n",
              "      <td>3262.359775</td>\n",
              "      <td>90613.814793</td>\n",
              "    </tr>\n",
              "    <tr>\n",
              "      <th>min</th>\n",
              "      <td>1.000000</td>\n",
              "      <td>0.000000</td>\n",
              "      <td>0.000000</td>\n",
              "      <td>0.000000</td>\n",
              "      <td>24828.000000</td>\n",
              "    </tr>\n",
              "    <tr>\n",
              "      <th>25%</th>\n",
              "      <td>22348.750000</td>\n",
              "      <td>0.000000</td>\n",
              "      <td>3.000000</td>\n",
              "      <td>2406.000000</td>\n",
              "      <td>52836.000000</td>\n",
              "    </tr>\n",
              "    <tr>\n",
              "      <th>50%</th>\n",
              "      <td>44696.500000</td>\n",
              "      <td>1.000000</td>\n",
              "      <td>5.000000</td>\n",
              "      <td>4089.000000</td>\n",
              "      <td>66396.000000</td>\n",
              "    </tr>\n",
              "    <tr>\n",
              "      <th>75%</th>\n",
              "      <td>67044.250000</td>\n",
              "      <td>1.000000</td>\n",
              "      <td>6.000000</td>\n",
              "      <td>6094.000000</td>\n",
              "      <td>103440.000000</td>\n",
              "    </tr>\n",
              "    <tr>\n",
              "      <th>max</th>\n",
              "      <td>89392.000000</td>\n",
              "      <td>1.000000</td>\n",
              "      <td>8.000000</td>\n",
              "      <td>31894.000000</td>\n",
              "      <td>724068.000000</td>\n",
              "    </tr>\n",
              "  </tbody>\n",
              "</table>\n",
              "</div>"
            ],
            "text/plain": [
              "                 id  marital_status       vintage  claim_amount           cltv\n",
              "count  89392.000000    89392.000000  89392.000000  89392.000000   89392.000000\n",
              "mean   44696.500000        0.575488      4.595669   4351.502416   97952.828978\n",
              "std    25805.391969        0.494272      2.290446   3262.359775   90613.814793\n",
              "min        1.000000        0.000000      0.000000      0.000000   24828.000000\n",
              "25%    22348.750000        0.000000      3.000000   2406.000000   52836.000000\n",
              "50%    44696.500000        1.000000      5.000000   4089.000000   66396.000000\n",
              "75%    67044.250000        1.000000      6.000000   6094.000000  103440.000000\n",
              "max    89392.000000        1.000000      8.000000  31894.000000  724068.000000"
            ]
          },
          "execution_count": 5,
          "metadata": {},
          "output_type": "execute_result"
        }
      ],
      "source": [
        "# explore the dataset\n",
        "train.describe()"
      ]
    },
    {
      "cell_type": "code",
      "execution_count": null,
      "id": "b48879fb",
      "metadata": {
        "id": "b48879fb",
        "outputId": "4f41b34a-8fb4-4c57-ad4e-9aee91a8e13f"
      },
      "outputs": [
        {
          "data": {
            "text/plain": [
              "id                 int64\n",
              "gender            object\n",
              "area              object\n",
              "qualification     object\n",
              "income            object\n",
              "marital_status     int64\n",
              "vintage            int64\n",
              "claim_amount       int64\n",
              "num_policies      object\n",
              "policy            object\n",
              "type_of_policy    object\n",
              "cltv               int64\n",
              "dtype: object"
            ]
          },
          "execution_count": 6,
          "metadata": {},
          "output_type": "execute_result"
        }
      ],
      "source": [
        "# find out datatypes of columns\n",
        "train.dtypes"
      ]
    },
    {
      "cell_type": "markdown",
      "id": "22fe8b46",
      "metadata": {
        "id": "22fe8b46"
      },
      "source": [
        "### Data Visualization"
      ]
    },
    {
      "cell_type": "code",
      "execution_count": null,
      "id": "21ab67b2",
      "metadata": {
        "id": "21ab67b2"
      },
      "outputs": [],
      "source": [
        "# find out the effects various features have on our target variable - CLTV"
      ]
    },
    {
      "cell_type": "code",
      "execution_count": null,
      "id": "0ddc476c",
      "metadata": {
        "scrolled": true,
        "id": "0ddc476c",
        "outputId": "8bb327a5-ea10-4d3f-ea53-8b8746ce27b9"
      },
      "outputs": [
        {
          "data": {
            "text/plain": [
              "<function matplotlib.pyplot.show(close=None, block=None)>"
            ]
          },
          "execution_count": 9,
          "metadata": {},
          "output_type": "execute_result"
        },
        {
          "data": {
            "image/png": "[encoded data removed]",
            "text/plain": [
              "<Figure size 432x288 with 1 Axes>"
            ]
          },
          "metadata": {
            "needs_background": "light"
          },
          "output_type": "display_data"
        }
      ],
      "source": [
        "# plot a scatter plot to find the relationship between claim_amount and cltv\n",
        "plt.scatter(train['claim_amount'], train['cltv'], color='green')\n",
        "plt.xlabel('Claim Amount')\n",
        "plt.ylabel('CLTV')\n",
        "plt.show"
      ]
    },
    {
      "cell_type": "code",
      "execution_count": null,
      "id": "79f609a8",
      "metadata": {
        "id": "79f609a8"
      },
      "outputs": [],
      "source": [
        "# From the above graph its clear that claim_amount is inversely related to CLTV\n",
        "# Hence claim_amount should be selected as one of features"
      ]
    },
    {
      "cell_type": "code",
      "execution_count": null,
      "id": "a9b8b4ed",
      "metadata": {
        "id": "a9b8b4ed",
        "outputId": "50e1f95f-25a4-4fe5-b583-c0802ec6b414"
      },
      "outputs": [
        {
          "data": {
            "text/plain": [
              "<function matplotlib.pyplot.show(close=None, block=None)>"
            ]
          },
          "execution_count": 21,
          "metadata": {},
          "output_type": "execute_result"
        },
        {
          "data": {
            "image/png": "[encoded data removed]",
            "text/plain": [
              "<Figure size 432x288 with 1 Axes>"
            ]
          },
          "metadata": {
            "needs_background": "light"
          },
          "output_type": "display_data"
        }
      ],
      "source": [
        "# plot a scatter plot to find the relationship between vintage and cltv\n",
        "plt.scatter(train['vintage'], train['cltv'])\n",
        "plt.xlabel('Vintage')\n",
        "plt.ylabel('CLTV')\n",
        "plt.show"
      ]
    },
    {
      "cell_type": "code",
      "execution_count": null,
      "id": "b5444be0",
      "metadata": {
        "id": "b5444be0"
      },
      "outputs": [],
      "source": [
        "# from above graph it deosnt look like there is any solid relationship between vintage and cltv\n",
        "# hence vintage need not ben an impportant feature"
      ]
    },
    {
      "cell_type": "code",
      "execution_count": null,
      "id": "9ba55b73",
      "metadata": {
        "id": "9ba55b73",
        "outputId": "8db8fd9c-5a8f-4435-9336-a57d6f262600"
      },
      "outputs": [
        {
          "name": "stderr",
          "output_type": "stream",
          "text": [
            "Exception ignored in: <function TransformNode.set_children.<locals>.<lambda> at 0x000002C76E019940>\n",
            "Traceback (most recent call last):\n",
            "  File \"C:\\Users\\dell\\anaconda3\\lib\\site-packages\\matplotlib\\transforms.py\", line 222, in <lambda>\n",
            "    self, lambda _, pop=child._parents.pop, k=id(self): pop(k))\n",
            "KeyboardInterrupt: \n"
          ]
        },
        {
          "data": {
            "image/png": "[encoded data removed]",
            "text/plain": [
              "<Figure size 864x432 with 1 Axes>"
            ]
          },
          "metadata": {
            "needs_background": "light"
          },
          "output_type": "display_data"
        }
      ],
      "source": [
        "# plot a bar graph that shows relationship between CLTV and type_of_policy\n",
        "fig = plt.figure(figsize = (12,6))\n",
        "plt.bar(train['type_of_policy'], train['cltv'])\n",
        "plt.show()"
      ]
    },
    {
      "cell_type": "code",
      "execution_count": null,
      "id": "64e9340e",
      "metadata": {
        "id": "64e9340e",
        "outputId": "4bc7c134-96a8-41be-8b6c-6950dc08b823"
      },
      "outputs": [
        {
          "data": {
            "image/png": "[encoded data removed]",
            "text/plain": [
              "<Figure size 432x288 with 1 Axes>"
            ]
          },
          "metadata": {
            "needs_background": "light"
          },
          "output_type": "display_data"
        }
      ],
      "source": [
        "# plot a line graph that shows relationship between CLTV and policy\n",
        "plt.plot(train['policy'],train['cltv'])\n",
        "plt.show()"
      ]
    },
    {
      "cell_type": "markdown",
      "id": "804702ab",
      "metadata": {
        "id": "804702ab"
      },
      "source": [
        "### Data Pre Processing"
      ]
    },
    {
      "cell_type": "code",
      "execution_count": null,
      "id": "ae1c2f24",
      "metadata": {
        "id": "ae1c2f24"
      },
      "outputs": [],
      "source": [
        "# Since target variable is a continous numeric variable we will be using regression methods\n",
        "# hence in order to aid feature selection methods transform categorical data to numeric datatypes"
      ]
    },
    {
      "cell_type": "code",
      "execution_count": null,
      "id": "80ab3f58",
      "metadata": {
        "id": "80ab3f58"
      },
      "outputs": [],
      "source": [
        "# find out distinct values of each categorical column and replace them with numerical values"
      ]
    },
    {
      "cell_type": "code",
      "execution_count": null,
      "id": "f0312882",
      "metadata": {
        "id": "f0312882"
      },
      "outputs": [],
      "source": [
        "train['gender'].replace(['Male','Female'],[0,1], inplace=True)"
      ]
    },
    {
      "cell_type": "code",
      "execution_count": null,
      "id": "48415257",
      "metadata": {
        "id": "48415257",
        "outputId": "f35ba997-cbba-422c-c1a4-9b093ab3fe61"
      },
      "outputs": [
        {
          "data": {
            "text/plain": [
              "array(['Urban', 'Rural'], dtype=object)"
            ]
          },
          "execution_count": 28,
          "metadata": {},
          "output_type": "execute_result"
        }
      ],
      "source": [
        "train['area'].unique()"
      ]
    },
    {
      "cell_type": "code",
      "execution_count": null,
      "id": "fd318d7d",
      "metadata": {
        "id": "fd318d7d"
      },
      "outputs": [],
      "source": [
        "train['area'].replace(['Urban', 'Rural'],[0,1], inplace=True)"
      ]
    },
    {
      "cell_type": "code",
      "execution_count": null,
      "id": "d8069d1f",
      "metadata": {
        "id": "d8069d1f",
        "outputId": "b2c947e4-74c7-4fa7-c563-84524587f668"
      },
      "outputs": [
        {
          "data": {
            "text/plain": [
              "array(['Bachelor', 'High School', 'Others'], dtype=object)"
            ]
          },
          "execution_count": 30,
          "metadata": {},
          "output_type": "execute_result"
        }
      ],
      "source": [
        "train['qualification'].unique()"
      ]
    },
    {
      "cell_type": "code",
      "execution_count": null,
      "id": "f4777d99",
      "metadata": {
        "id": "f4777d99"
      },
      "outputs": [],
      "source": [
        "train['qualification'].replace(['Bachelor', 'High School', 'Others'],[2,1,0], inplace=True)"
      ]
    },
    {
      "cell_type": "code",
      "execution_count": null,
      "id": "b0003e95",
      "metadata": {
        "id": "b0003e95",
        "outputId": "e0b61258-c395-4fdd-9758-61d6d9b7a58b"
      },
      "outputs": [
        {
          "data": {
            "text/plain": [
              "array(['5L-10L', 'More than 10L', '2L-5L', '<=2L'], dtype=object)"
            ]
          },
          "execution_count": 32,
          "metadata": {},
          "output_type": "execute_result"
        }
      ],
      "source": [
        "train['income'].unique()"
      ]
    },
    {
      "cell_type": "code",
      "execution_count": null,
      "id": "a3c70b50",
      "metadata": {
        "id": "a3c70b50"
      },
      "outputs": [],
      "source": [
        "train['income'].replace([ 'More than 10L','5L-10L', '2L-5L', '<=2L'],[3,2,1,0], inplace=True)"
      ]
    },
    {
      "cell_type": "code",
      "execution_count": null,
      "id": "508dd33a",
      "metadata": {
        "id": "508dd33a",
        "outputId": "dc38d9f0-40b7-470b-bb28-967a38f2d5b7"
      },
      "outputs": [
        {
          "data": {
            "text/plain": [
              "array(['More than 1', '1'], dtype=object)"
            ]
          },
          "execution_count": 34,
          "metadata": {},
          "output_type": "execute_result"
        }
      ],
      "source": [
        "train['num_policies'].unique()"
      ]
    },
    {
      "cell_type": "code",
      "execution_count": null,
      "id": "05dd2a94",
      "metadata": {
        "id": "05dd2a94"
      },
      "outputs": [],
      "source": [
        "train['num_policies'].replace(['More than 1', '1'],[1,0], inplace=True)"
      ]
    },
    {
      "cell_type": "code",
      "execution_count": null,
      "id": "449285d2",
      "metadata": {
        "id": "449285d2",
        "outputId": "abf3ec26-8997-4318-a594-72e27103a01c"
      },
      "outputs": [
        {
          "data": {
            "text/plain": [
              "array(['A', 'C', 'B'], dtype=object)"
            ]
          },
          "execution_count": 36,
          "metadata": {},
          "output_type": "execute_result"
        }
      ],
      "source": [
        "train['policy'].unique()"
      ]
    },
    {
      "cell_type": "code",
      "execution_count": null,
      "id": "222ead1f",
      "metadata": {
        "id": "222ead1f"
      },
      "outputs": [],
      "source": [
        "train['policy'].replace(['A', 'B', 'C'],[0,1,2], inplace=True)"
      ]
    },
    {
      "cell_type": "code",
      "execution_count": null,
      "id": "9c2fedf7",
      "metadata": {
        "id": "9c2fedf7",
        "outputId": "abb12f12-9e1a-45ba-a363-dae4f893d6cb"
      },
      "outputs": [
        {
          "data": {
            "text/plain": [
              "array(['Platinum', 'Gold', 'Silver'], dtype=object)"
            ]
          },
          "execution_count": 37,
          "metadata": {},
          "output_type": "execute_result"
        }
      ],
      "source": [
        "train['type_of_policy'].unique()"
      ]
    },
    {
      "cell_type": "code",
      "execution_count": null,
      "id": "cab61753",
      "metadata": {
        "id": "cab61753"
      },
      "outputs": [],
      "source": [
        "train['type_of_policy'].replace(['Platinum', 'Gold', 'Silver'],[2,1,0], inplace=True)"
      ]
    },
    {
      "cell_type": "code",
      "execution_count": null,
      "id": "cf3e31b7",
      "metadata": {
        "id": "cf3e31b7",
        "outputId": "01eedb0e-c79d-4d73-f8de-031c8b868762"
      },
      "outputs": [
        {
          "data": {
            "text/plain": [
              "id                int64\n",
              "gender            int64\n",
              "area              int64\n",
              "qualification     int64\n",
              "income            int64\n",
              "marital_status    int64\n",
              "vintage           int64\n",
              "claim_amount      int64\n",
              "num_policies      int64\n",
              "policy            int64\n",
              "type_of_policy    int64\n",
              "cltv              int64\n",
              "dtype: object"
            ]
          },
          "execution_count": 10,
          "metadata": {},
          "output_type": "execute_result"
        }
      ],
      "source": [
        "train.dtypes"
      ]
    },
    {
      "cell_type": "code",
      "execution_count": null,
      "id": "91ebd00a",
      "metadata": {
        "id": "91ebd00a",
        "outputId": "7e4f6b22-81e4-4701-d9c8-82f58151cd33"
      },
      "outputs": [
        {
          "data": {
            "text/plain": [
              "id                0\n",
              "gender            0\n",
              "area              0\n",
              "qualification     0\n",
              "income            0\n",
              "marital_status    0\n",
              "vintage           0\n",
              "claim_amount      0\n",
              "num_policies      0\n",
              "policy            0\n",
              "type_of_policy    0\n",
              "cltv              0\n",
              "dtype: int64"
            ]
          },
          "execution_count": 11,
          "metadata": {},
          "output_type": "execute_result"
        }
      ],
      "source": [
        "train.isna().sum()"
      ]
    },
    {
      "cell_type": "markdown",
      "id": "ac72f501",
      "metadata": {
        "id": "ac72f501"
      },
      "source": [
        "### feature selection using Pearson’s Correlation Coefficient: f_regression()"
      ]
    },
    {
      "cell_type": "markdown",
      "id": "f29bb4cc",
      "metadata": {
        "id": "f29bb4cc"
      },
      "source": [
        "#### Here we will first plot the Pearson correlation heatmap and see the correlation of independent variables(features) with the output variable(target) CLTV. The correlation coefficient has values between -1 to 1.A value closer to 0 implies weaker correlation (exact 0 implying no correlation). A value closer to 1 implies stronger positive correlation. A value closer to -1 implies stronger negative correlation. We will only select features which has quantifiable correlation  values with the output variable.\n",
        "\n"
      ]
    },
    {
      "cell_type": "code",
      "execution_count": null,
      "id": "34bd9288",
      "metadata": {
        "id": "34bd9288",
        "outputId": "bc2148b5-dc6b-4816-cf78-3704b9cdd535"
      },
      "outputs": [
        {
          "data": {
            "image/png": "[encoded data removed]",
            "text/plain": [
              "<Figure size 864x720 with 2 Axes>"
            ]
          },
          "metadata": {
            "needs_background": "light"
          },
          "output_type": "display_data"
        }
      ],
      "source": [
        "#Using Pearson Correlation\n",
        "plt.figure(figsize=(12,10))\n",
        "cor = train.corr()\n",
        "sns.heatmap(cor, annot=True, cmap=plt.cm.Reds)\n",
        "plt.show()\n"
      ]
    },
    {
      "cell_type": "markdown",
      "id": "8e067eb9",
      "metadata": {
        "id": "8e067eb9"
      },
      "source": [
        "#### from the above heatmap it can clearly be seen that only the features num_policies,claim_amount ,area, income and marital_status have atleast milder levels of influence over traget variable. Hence we will sellect these three as features first and build our regression model"
      ]
    },
    {
      "cell_type": "markdown",
      "id": "9f9aadce",
      "metadata": {
        "id": "9f9aadce"
      },
      "source": [
        "### Build Regression Model"
      ]
    },
    {
      "cell_type": "code",
      "execution_count": null,
      "id": "5563ca6a",
      "metadata": {
        "id": "5563ca6a"
      },
      "outputs": [],
      "source": [
        "# build features and target dataset\n",
        "X = train[['num_policies','claim_amount','area','income','marital_status']]\n",
        "y = train['cltv']"
      ]
    },
    {
      "cell_type": "code",
      "execution_count": null,
      "id": "6c7efc6c",
      "metadata": {
        "id": "6c7efc6c"
      },
      "outputs": [],
      "source": [
        "# using standard scaler normalize or standardoze the input/feature values for better regression results\n",
        "from sklearn.preprocessing import StandardScaler\n",
        "scaler = StandardScaler()\n",
        "X1 = scaler.fit_transform(X)"
      ]
    },
    {
      "cell_type": "code",
      "execution_count": null,
      "id": "c2c46ccb",
      "metadata": {
        "id": "c2c46ccb"
      },
      "outputs": [],
      "source": [
        "# split dataset into train and test sets\n",
        "from sklearn.model_selection import train_test_split\n",
        "X_train,X_test,y_train,y_test = train_test_split(X1,y,test_size=0.2)"
      ]
    },
    {
      "cell_type": "markdown",
      "id": "203d8cb0",
      "metadata": {
        "id": "203d8cb0"
      },
      "source": [
        "#### Using Linear Regressor"
      ]
    },
    {
      "cell_type": "code",
      "execution_count": null,
      "id": "80c57ce3",
      "metadata": {
        "id": "80c57ce3",
        "outputId": "e819b4b5-5141-4906-aace-2d61b4a09ef0"
      },
      "outputs": [
        {
          "data": {
            "text/html": [
              "<style>#sk-container-id-3 {color: black;background-color: white;}#sk-container-id-3 pre{padding: 0;}#sk-container-id-3 div.sk-toggleable {background-color: white;}#sk-container-id-3 label.sk-toggleable__label {cursor: pointer;display: block;width: 100%;margin-bottom: 0;padding: 0.3em;box-sizing: border-box;text-align: center;}#sk-container-id-3 label.sk-toggleable__label-arrow:before {content: \"▸\";float: left;margin-right: 0.25em;color: #696969;}#sk-container-id-3 label.sk-toggleable__label-arrow:hover:before {color: black;}#sk-container-id-3 div.sk-estimator:hover label.sk-toggleable__label-arrow:before {color: black;}#sk-container-id-3 div.sk-toggleable__content {max-height: 0;max-width: 0;overflow: hidden;text-align: left;background-color: #f0f8ff;}#sk-container-id-3 div.sk-toggleable__content pre {margin: 0.2em;color: black;border-radius: 0.25em;background-color: #f0f8ff;}#sk-container-id-3 input.sk-toggleable__control:checked~div.sk-toggleable__content {max-height: 200px;max-width: 100%;overflow: auto;}#sk-container-id-3 input.sk-toggleable__control:checked~label.sk-toggleable__label-arrow:before {content: \"▾\";}#sk-container-id-3 div.sk-estimator input.sk-toggleable__control:checked~label.sk-toggleable__label {background-color: #d4ebff;}#sk-container-id-3 div.sk-label input.sk-toggleable__control:checked~label.sk-toggleable__label {background-color: #d4ebff;}#sk-container-id-3 input.sk-hidden--visually {border: 0;clip: rect(1px 1px 1px 1px);clip: rect(1px, 1px, 1px, 1px);height: 1px;margin: -1px;overflow: hidden;padding: 0;position: absolute;width: 1px;}#sk-container-id-3 div.sk-estimator {font-family: monospace;background-color: #f0f8ff;border: 1px dotted black;border-radius: 0.25em;box-sizing: border-box;margin-bottom: 0.5em;}#sk-container-id-3 div.sk-estimator:hover {background-color: #d4ebff;}#sk-container-id-3 div.sk-parallel-item::after {content: \"\";width: 100%;border-bottom: 1px solid gray;flex-grow: 1;}#sk-container-id-3 div.sk-label:hover label.sk-toggleable__label {background-color: #d4ebff;}#sk-container-id-3 div.sk-serial::before {content: \"\";position: absolute;border-left: 1px solid gray;box-sizing: border-box;top: 0;bottom: 0;left: 50%;z-index: 0;}#sk-container-id-3 div.sk-serial {display: flex;flex-direction: column;align-items: center;background-color: white;padding-right: 0.2em;padding-left: 0.2em;position: relative;}#sk-container-id-3 div.sk-item {position: relative;z-index: 1;}#sk-container-id-3 div.sk-parallel {display: flex;align-items: stretch;justify-content: center;background-color: white;position: relative;}#sk-container-id-3 div.sk-item::before, #sk-container-id-3 div.sk-parallel-item::before {content: \"\";position: absolute;border-left: 1px solid gray;box-sizing: border-box;top: 0;bottom: 0;left: 50%;z-index: -1;}#sk-container-id-3 div.sk-parallel-item {display: flex;flex-direction: column;z-index: 1;position: relative;background-color: white;}#sk-container-id-3 div.sk-parallel-item:first-child::after {align-self: flex-end;width: 50%;}#sk-container-id-3 div.sk-parallel-item:last-child::after {align-self: flex-start;width: 50%;}#sk-container-id-3 div.sk-parallel-item:only-child::after {width: 0;}#sk-container-id-3 div.sk-dashed-wrapped {border: 1px dashed gray;margin: 0 0.4em 0.5em 0.4em;box-sizing: border-box;padding-bottom: 0.4em;background-color: white;}#sk-container-id-3 div.sk-label label {font-family: monospace;font-weight: bold;display: inline-block;line-height: 1.2em;}#sk-container-id-3 div.sk-label-container {text-align: center;}#sk-container-id-3 div.sk-container {/* jupyter's `normalize.less` sets `[hidden] { display: none; }` but bootstrap.min.css set `[hidden] { display: none !important; }` so we also need the `!important` here to be able to override the default hidden behavior on the sphinx rendered scikit-learn.org. See: https://github.com/scikit-learn/scikit-learn/issues/21755 */display: inline-block !important;position: relative;}#sk-container-id-3 div.sk-text-repr-fallback {display: none;}</style><div id=\"sk-container-id-3\" class=\"sk-top-container\"><div class=\"sk-text-repr-fallback\"><pre>LinearRegression()</pre><b>In a Jupyter environment, please rerun this cell to show the HTML representation or trust the notebook. <br />On GitHub, the HTML representation is unable to render, please try loading this page with nbviewer.org.</b></div><div class=\"sk-container\" hidden><div class=\"sk-item\"><div class=\"sk-estimator sk-toggleable\"><input class=\"sk-toggleable__control sk-hidden--visually\" id=\"sk-estimator-id-3\" type=\"checkbox\" checked><label for=\"sk-estimator-id-3\" class=\"sk-toggleable__label sk-toggleable__label-arrow\">LinearRegression</label><div class=\"sk-toggleable__content\"><pre>LinearRegression()</pre></div></div></div></div></div>"
            ],
            "text/plain": [
              "LinearRegression()"
            ]
          },
          "execution_count": 59,
          "metadata": {},
          "output_type": "execute_result"
        }
      ],
      "source": [
        "# import linear regression algorthm and build a model using the same. fit the model with train data\n",
        "from sklearn.linear_model import LinearRegression\n",
        "linreg = LinearRegression()\n",
        "linreg.fit(X_train, y_train)"
      ]
    },
    {
      "cell_type": "code",
      "execution_count": null,
      "id": "00c52ef3",
      "metadata": {
        "id": "00c52ef3"
      },
      "outputs": [],
      "source": [
        "# predict values using test set\n",
        "y_pred = linreg.predict(X_test)"
      ]
    },
    {
      "cell_type": "code",
      "execution_count": null,
      "id": "fffbd3b0",
      "metadata": {
        "id": "fffbd3b0",
        "outputId": "7c95efb9-faca-4e5a-f7b8-21896ea3e813"
      },
      "outputs": [
        {
          "name": "stdout",
          "output_type": "stream",
          "text": [
            "R2 score is:  0.15222533684766248\n"
          ]
        }
      ],
      "source": [
        "# evaluate model performance using r2_score\n",
        "from sklearn.metrics import r2_score\n",
        "print(\"R2 score is: \",r2_score(y_test,y_pred))"
      ]
    },
    {
      "cell_type": "markdown",
      "id": "2e66e2c8",
      "metadata": {
        "id": "2e66e2c8"
      },
      "source": [
        "### Using the ML model built make predictions in the test dataset"
      ]
    },
    {
      "cell_type": "code",
      "execution_count": null,
      "id": "92f12108",
      "metadata": {
        "id": "92f12108"
      },
      "outputs": [],
      "source": [
        "test['gender'].replace(['Male','Female'],[0,1], inplace=True)"
      ]
    },
    {
      "cell_type": "code",
      "execution_count": null,
      "id": "2a525e7f",
      "metadata": {
        "id": "2a525e7f"
      },
      "outputs": [],
      "source": [
        "test['area'].replace(['Urban', 'Rural'],[0,1], inplace=True)"
      ]
    },
    {
      "cell_type": "code",
      "execution_count": null,
      "id": "f6b6da37",
      "metadata": {
        "id": "f6b6da37"
      },
      "outputs": [],
      "source": [
        "test['qualification'].replace(['Bachelor', 'High School', 'Others'],[2,1,0], inplace=True)"
      ]
    },
    {
      "cell_type": "code",
      "execution_count": null,
      "id": "9783c1bc",
      "metadata": {
        "id": "9783c1bc"
      },
      "outputs": [],
      "source": [
        "test['income'].replace([ 'More than 10L','5L-10L', '2L-5L', '<=2L'],[3,2,1,0], inplace=True)"
      ]
    },
    {
      "cell_type": "code",
      "execution_count": null,
      "id": "58205897",
      "metadata": {
        "id": "58205897"
      },
      "outputs": [],
      "source": [
        "test['num_policies'].replace(['More than 1', '1'],[1,0], inplace=True)"
      ]
    },
    {
      "cell_type": "code",
      "execution_count": null,
      "id": "6703c78d",
      "metadata": {
        "id": "6703c78d"
      },
      "outputs": [],
      "source": [
        "test['policy'].replace(['A', 'B', 'C'],[0,1,2], inplace=True)"
      ]
    },
    {
      "cell_type": "code",
      "execution_count": null,
      "id": "a006bfd2",
      "metadata": {
        "id": "a006bfd2"
      },
      "outputs": [],
      "source": [
        "test['type_of_policy'].replace(['Platinum', 'Gold', 'Silver'],[2,1,0], inplace=True)"
      ]
    },
    {
      "cell_type": "code",
      "execution_count": null,
      "id": "24c354eb",
      "metadata": {
        "id": "24c354eb",
        "outputId": "18a538b9-5572-46ac-e852-59e639da861b"
      },
      "outputs": [
        {
          "data": {
            "text/plain": [
              "id                int64\n",
              "gender            int64\n",
              "area              int64\n",
              "qualification     int64\n",
              "income            int64\n",
              "marital_status    int64\n",
              "vintage           int64\n",
              "claim_amount      int64\n",
              "num_policies      int64\n",
              "policy            int64\n",
              "type_of_policy    int64\n",
              "dtype: object"
            ]
          },
          "execution_count": 71,
          "metadata": {},
          "output_type": "execute_result"
        }
      ],
      "source": [
        "test.dtypes"
      ]
    },
    {
      "cell_type": "code",
      "execution_count": null,
      "id": "5eee9ab3",
      "metadata": {
        "id": "5eee9ab3"
      },
      "outputs": [],
      "source": [
        "x_test = test[['num_policies','claim_amount','area','income','marital_status']]"
      ]
    },
    {
      "cell_type": "code",
      "execution_count": null,
      "id": "ce7017d2",
      "metadata": {
        "id": "ce7017d2"
      },
      "outputs": [],
      "source": [
        "x_test1 = scaler.fit_transform(x_test)"
      ]
    },
    {
      "cell_type": "code",
      "execution_count": null,
      "id": "5688c2e3",
      "metadata": {
        "id": "5688c2e3"
      },
      "outputs": [],
      "source": [
        "# make prediction on test data using model already built\n",
        "y_pred = linreg.predict(x_test1)"
      ]
    },
    {
      "cell_type": "code",
      "execution_count": null,
      "id": "6e2218b0",
      "metadata": {
        "id": "6e2218b0"
      },
      "outputs": [],
      "source": [
        "# assign predictions to a new column called cltv in test dataset\n",
        "test['cltv'] = y_pred.astype('int')"
      ]
    },
    {
      "cell_type": "code",
      "execution_count": null,
      "id": "2bafdb3b",
      "metadata": {
        "id": "2bafdb3b",
        "outputId": "ef1cbc93-201b-43ff-b98b-bfd99035fa16"
      },
      "outputs": [
        {
          "data": {
            "text/html": [
              "<div>\n",
              "<style scoped>\n",
              "    .dataframe tbody tr th:only-of-type {\n",
              "        vertical-align: middle;\n",
              "    }\n",
              "\n",
              "    .dataframe tbody tr th {\n",
              "        vertical-align: top;\n",
              "    }\n",
              "\n",
              "    .dataframe thead th {\n",
              "        text-align: right;\n",
              "    }\n",
              "</style>\n",
              "<table border=\"1\" class=\"dataframe\">\n",
              "  <thead>\n",
              "    <tr style=\"text-align: right;\">\n",
              "      <th></th>\n",
              "      <th>id</th>\n",
              "      <th>gender</th>\n",
              "      <th>area</th>\n",
              "      <th>qualification</th>\n",
              "      <th>income</th>\n",
              "      <th>marital_status</th>\n",
              "      <th>vintage</th>\n",
              "      <th>claim_amount</th>\n",
              "      <th>num_policies</th>\n",
              "      <th>policy</th>\n",
              "      <th>type_of_policy</th>\n",
              "      <th>cltv</th>\n",
              "    </tr>\n",
              "  </thead>\n",
              "  <tbody>\n",
              "    <tr>\n",
              "      <th>0</th>\n",
              "      <td>89393</td>\n",
              "      <td>1</td>\n",
              "      <td>1</td>\n",
              "      <td>1</td>\n",
              "      <td>2</td>\n",
              "      <td>0</td>\n",
              "      <td>6</td>\n",
              "      <td>2134</td>\n",
              "      <td>1</td>\n",
              "      <td>1</td>\n",
              "      <td>0</td>\n",
              "      <td>110332</td>\n",
              "    </tr>\n",
              "    <tr>\n",
              "      <th>1</th>\n",
              "      <td>89394</td>\n",
              "      <td>1</td>\n",
              "      <td>0</td>\n",
              "      <td>1</td>\n",
              "      <td>1</td>\n",
              "      <td>0</td>\n",
              "      <td>4</td>\n",
              "      <td>4102</td>\n",
              "      <td>1</td>\n",
              "      <td>0</td>\n",
              "      <td>2</td>\n",
              "      <td>126536</td>\n",
              "    </tr>\n",
              "    <tr>\n",
              "      <th>2</th>\n",
              "      <td>89395</td>\n",
              "      <td>0</td>\n",
              "      <td>1</td>\n",
              "      <td>1</td>\n",
              "      <td>2</td>\n",
              "      <td>1</td>\n",
              "      <td>7</td>\n",
              "      <td>2925</td>\n",
              "      <td>1</td>\n",
              "      <td>1</td>\n",
              "      <td>1</td>\n",
              "      <td>106238</td>\n",
              "    </tr>\n",
              "    <tr>\n",
              "      <th>3</th>\n",
              "      <td>89396</td>\n",
              "      <td>1</td>\n",
              "      <td>1</td>\n",
              "      <td>2</td>\n",
              "      <td>3</td>\n",
              "      <td>1</td>\n",
              "      <td>2</td>\n",
              "      <td>0</td>\n",
              "      <td>1</td>\n",
              "      <td>1</td>\n",
              "      <td>0</td>\n",
              "      <td>95328</td>\n",
              "    </tr>\n",
              "    <tr>\n",
              "      <th>4</th>\n",
              "      <td>89397</td>\n",
              "      <td>1</td>\n",
              "      <td>0</td>\n",
              "      <td>1</td>\n",
              "      <td>1</td>\n",
              "      <td>0</td>\n",
              "      <td>5</td>\n",
              "      <td>14059</td>\n",
              "      <td>1</td>\n",
              "      <td>1</td>\n",
              "      <td>0</td>\n",
              "      <td>153941</td>\n",
              "    </tr>\n",
              "  </tbody>\n",
              "</table>\n",
              "</div>"
            ],
            "text/plain": [
              "      id  gender  area  qualification  income  marital_status  vintage  \\\n",
              "0  89393       1     1              1       2               0        6   \n",
              "1  89394       1     0              1       1               0        4   \n",
              "2  89395       0     1              1       2               1        7   \n",
              "3  89396       1     1              2       3               1        2   \n",
              "4  89397       1     0              1       1               0        5   \n",
              "\n",
              "   claim_amount  num_policies  policy  type_of_policy    cltv  \n",
              "0          2134             1       1               0  110332  \n",
              "1          4102             1       0               2  126536  \n",
              "2          2925             1       1               1  106238  \n",
              "3             0             1       1               0   95328  \n",
              "4         14059             1       1               0  153941  "
            ]
          },
          "execution_count": 73,
          "metadata": {},
          "output_type": "execute_result"
        }
      ],
      "source": [
        "test.head()"
      ]
    },
    {
      "cell_type": "markdown",
      "id": "5696a641",
      "metadata": {
        "id": "5696a641"
      },
      "source": [
        "### Creating Final submission csv file"
      ]
    },
    {
      "cell_type": "code",
      "execution_count": null,
      "id": "f464f2db",
      "metadata": {
        "id": "f464f2db"
      },
      "outputs": [],
      "source": [
        "#creating the final submission file\n",
        "final_submission = test[['id','cltv']]\n",
        "final_submission.to_csv(\"final_submission1.csv\",index=False)"
      ]
    },
    {
      "cell_type": "code",
      "execution_count": null,
      "id": "3be0a778",
      "metadata": {
        "id": "3be0a778"
      },
      "outputs": [],
      "source": []
    },
    {
      "cell_type": "code",
      "execution_count": null,
      "id": "aa0a39ca",
      "metadata": {
        "id": "aa0a39ca"
      },
      "outputs": [],
      "source": []
    }
  ],
  "metadata": {
    "kernelspec": {
      "display_name": "Python 3 (ipykernel)",
      "language": "python",
      "name": "python3"
    },
    "language_info": {
      "codemirror_mode": {
        "name": "ipython",
        "version": 3
      },
      "file_extension": ".py",
      "mimetype": "text/x-python",
      "name": "python",
      "nbconvert_exporter": "python",
      "pygments_lexer": "ipython3",
      "version": "3.9.12"
    },
    "colab": {
      "provenance": [],
      "include_colab_link": true
    }
  },
  "nbformat": 4,
  "nbformat_minor": 5
}